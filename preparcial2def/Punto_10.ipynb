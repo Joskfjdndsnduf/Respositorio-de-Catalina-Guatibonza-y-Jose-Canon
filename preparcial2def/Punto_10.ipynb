{
 "cells": [
  {
   "cell_type": "code",
   "execution_count": 2,
   "metadata": {},
   "outputs": [
    {
     "data": {
      "text/latex": [
       "$\\displaystyle - \\frac{3 h^{5} ξf^{(4)}}{80}$"
      ],
      "text/plain": [
       "-3*h**5*ξf^(4)/80"
      ]
     },
     "execution_count": 2,
     "metadata": {},
     "output_type": "execute_result"
    }
   ],
   "source": [
    "import numpy as np\n",
    "import sympy as sym\n",
    "\n",
    "x= sym.Symbol(\"x\")\n",
    "h= sym.Symbol(\"h\")\n",
    "\n",
    "Cons= sym.Symbol(\"ξf^(4)\")/np.math.factorial(4)\n",
    "\n",
    "func= (x)*(x-h)*(x-2*h)*(x-3*h)\n",
    "\n",
    "Int=sym.integrate(func,(x,0,3*h))\n",
    "\n",
    "Error=Cons*Int\n",
    "Error"
   ]
  },
  {
   "cell_type": "code",
   "execution_count": null,
   "metadata": {},
   "outputs": [],
   "source": []
  }
 ],
 "metadata": {
  "kernelspec": {
   "display_name": "Python 3",
   "language": "python",
   "name": "python3"
  },
  "language_info": {
   "codemirror_mode": {
    "name": "ipython",
    "version": 3
   },
   "file_extension": ".py",
   "mimetype": "text/x-python",
   "name": "python",
   "nbconvert_exporter": "python",
   "pygments_lexer": "ipython3",
   "version": "3.8.5"
  }
 },
 "nbformat": 4,
 "nbformat_minor": 4
}
