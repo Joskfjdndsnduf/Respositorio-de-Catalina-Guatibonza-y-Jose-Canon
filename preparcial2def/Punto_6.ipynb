{
 "cells": [
  {
   "cell_type": "code",
   "execution_count": 8,
   "metadata": {},
   "outputs": [
    {
     "data": {
      "text/plain": [
       "0.000418920473028569"
      ]
     },
     "execution_count": 8,
     "metadata": {},
     "output_type": "execute_result"
    }
   ],
   "source": [
    "import numpy as np\n",
    "import sympy as sym\n",
    "\n",
    "def func(a):\n",
    "    return (np.sqrt(0.01**2-a**2))/(0.5+a) \n",
    "\n",
    "def trapecio(f,a,b):\n",
    "\n",
    "    return (0.5*(b-a)*(f(a)+f(b)))\n",
    "\n",
    "#print(trapecio(func,-0.01,0.01))\n",
    "\n",
    "\n",
    "lista = np.linspace(-0.01,0.01,10000)\n",
    "    \n",
    "def simpson(f,a,b):\n",
    "    \n",
    "    h= lista[1]-lista[0]\n",
    "    total = 0\n",
    "    \n",
    "    for i in range (1,len(lista)-1):\n",
    "        total += 4*f(lista[i])\n",
    "        \n",
    "    total += f(lista[0])+f(lista[-1])\n",
    "    total*=h/3\n",
    "    \n",
    "    return total\n",
    "\n",
    "simpson(func,-0.01,0.01)"
   ]
  },
  {
   "cell_type": "code",
   "execution_count": null,
   "metadata": {},
   "outputs": [],
   "source": []
  }
 ],
 "metadata": {
  "kernelspec": {
   "display_name": "Python 3",
   "language": "python",
   "name": "python3"
  },
  "language_info": {
   "codemirror_mode": {
    "name": "ipython",
    "version": 3
   },
   "file_extension": ".py",
   "mimetype": "text/x-python",
   "name": "python",
   "nbconvert_exporter": "python",
   "pygments_lexer": "ipython3",
   "version": "3.8.5"
  }
 },
 "nbformat": 4,
 "nbformat_minor": 4
}
