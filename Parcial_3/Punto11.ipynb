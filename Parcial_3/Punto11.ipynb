{
 "cells": [
  {
   "cell_type": "code",
   "execution_count": 1,
   "metadata": {},
   "outputs": [],
   "source": [
    "import numpy as np\n"
   ]
  },
  {
   "cell_type": "code",
   "execution_count": 13,
   "metadata": {},
   "outputs": [
    {
     "data": {
      "text/plain": [
       "(array([[1.00105755]]),\n",
       " array([[ 0.40816373],\n",
       "        [-0.40864316],\n",
       "        [-0.81634131]]))"
      ]
     },
     "execution_count": 13,
     "metadata": {},
     "output_type": "execute_result"
    }
   ],
   "source": [
    "#Matriz a evaluar\n",
    "H= np.array([[1,2,-1],[1,0,1],[4,-4,5]])\n",
    "#Vector random\n",
    "q=np.array([1,2,3])\n",
    "\n",
    "def mew(q,m):\n",
    "    \n",
    "    a=multi(m,q)\n",
    "\n",
    "    b= multi(np.transpose(q),a)\n",
    "    return b\n",
    "\n",
    "def multi(H,vp):\n",
    "    c1=len(H[0])\n",
    "    f2=len(vp)\n",
    "\n",
    "    if c1!=f2:\n",
    "        print(\"las matrices no se pueden multiplicar\")\n",
    "    else:\n",
    "        f1=len(H)\n",
    "        c2=1\n",
    "        r=np.zeros(shape=(f1,c2))\n",
    "\n",
    "        for i in range(f1):\n",
    "            for j in range(c2):\n",
    "                for k in range(c1):\n",
    "                    r[i][j]+=H[i][k]*vp[k]\n",
    "        return r\n",
    "\n",
    "    \n",
    "def potmin(H,q):\n",
    "    for i in range(10):\n",
    "        a=np.linalg.inv(H)\n",
    "        if len(q)==1:\n",
    "            c=np.transpose(q)\n",
    "            z=multi(a,c)\n",
    "            h=np.transpose(z)\n",
    "            q=z/np.sqrt(multi(h,z))\n",
    "            j=mew(q,a)\n",
    "        else:\n",
    "            z=multi(a,q)\n",
    "            h=np.transpose(z)\n",
    "            q=z/np.sqrt(multi(h,z))\n",
    "            j=mew(q,a)\n",
    "    return j,-q \n",
    "\n",
    "potmin(H,q)"
   ]
  },
  {
   "cell_type": "code",
   "execution_count": null,
   "metadata": {},
   "outputs": [],
   "source": []
  }
 ],
 "metadata": {
  "kernelspec": {
   "display_name": "Python 3",
   "language": "python",
   "name": "python3"
  },
  "language_info": {
   "codemirror_mode": {
    "name": "ipython",
    "version": 3
   },
   "file_extension": ".py",
   "mimetype": "text/x-python",
   "name": "python",
   "nbconvert_exporter": "python",
   "pygments_lexer": "ipython3",
   "version": "3.8.5"
  }
 },
 "nbformat": 4,
 "nbformat_minor": 4
}
