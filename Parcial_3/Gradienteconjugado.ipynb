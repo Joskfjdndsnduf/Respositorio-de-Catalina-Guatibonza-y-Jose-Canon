{
 "cells": [
  {
   "cell_type": "code",
   "execution_count": 71,
   "metadata": {},
   "outputs": [],
   "source": [
    "import numpy as np\n",
    "import sympy as sym\n",
    "\n",
    "x0 = sym.Symbol('x0',real=True)\n",
    "x1 = sym.Symbol('x1',real=True)\n",
    "x2 = sym.Symbol('x2',real=True)\n",
    "x3 = sym.Symbol('x3',real=True)\n",
    "x4 = sym.Symbol('x4',real=True)\n",
    "\n",
    "A= np.array([[0.2,0.1,1,1,0],[0.1,4,-1,1,-1],[1,-1,60,0,-2],[1,1,0,8,4],[0,-1,-2,4,700]])\n",
    "b=  np.array([[1,2,3,4,5]])\n",
    "v= np.array([x0,x1,x2,x3,x4])\n"
   ]
  },
  {
   "cell_type": "code",
   "execution_count": 72,
   "metadata": {},
   "outputs": [
    {
     "data": {
      "text/plain": [
       "array([Abs(0.2*x0 + 0.1*x1 + 1.0*x2 + 1.0*x3),\n",
       "       Abs(0.1*x0 + 4.0*x1 - 1.0*x2 + 1.0*x3 - 1.0*x4),\n",
       "       Abs(1.0*x0 - 1.0*x1 + 60.0*x2 - 2.0*x4),\n",
       "       Abs(1.0*x0 + 1.0*x1 + 8.0*x3 + 4.0*x4),\n",
       "       Abs(1.0*x1 + 2.0*x2 - 4.0*x3 - 700.0*x4)], dtype=object)"
      ]
     },
     "execution_count": 72,
     "metadata": {},
     "output_type": "execute_result"
    }
   ],
   "source": [
    "np.absolute((np.dot(A,v)))"
   ]
  },
  {
   "cell_type": "code",
   "execution_count": 73,
   "metadata": {},
   "outputs": [
    {
     "data": {
      "text/plain": [
       "701.0"
      ]
     },
     "execution_count": 73,
     "metadata": {},
     "output_type": "execute_result"
    }
   ],
   "source": [
    "r=np.dot(A,np.array([[1,1,1,1,1]]).T)\n",
    "np.absolute(np.max(r))"
   ]
  },
  {
   "cell_type": "code",
   "execution_count": 77,
   "metadata": {},
   "outputs": [
    {
     "ename": "SyntaxError",
     "evalue": "invalid syntax (<ipython-input-77-a29942fb0fca>, line 11)",
     "output_type": "error",
     "traceback": [
      "\u001b[0;36m  File \u001b[0;32m\"<ipython-input-77-a29942fb0fca>\"\u001b[0;36m, line \u001b[0;32m11\u001b[0m\n\u001b[0;31m    xk1= float(xk + np.dot(alf[k],p[k]))\u001b[0m\n\u001b[0m    ^\u001b[0m\n\u001b[0;31mSyntaxError\u001b[0m\u001b[0;31m:\u001b[0m invalid syntax\n"
     ]
    }
   ],
   "source": [
    "#Probando con el puntp semilla 1,1,1,1\n",
    "\n",
    "def desc_conj (A,b,v,t=0.01):\n",
    "    \n",
    "    r=np.max(np.absolute(np.max(np.dot(A,v))))  \n",
    "    p=-r\n",
    "    k=0\n",
    "    while r > 0.01 and k <=5:\n",
    "    \n",
    "        alf= float(-(np.dot((r[k].T),p[k])/(np.dot(p[k].T,A)*p[k]))\n",
    "        print(alf)\n",
    "        xk1= float(xk + np.dot(alf[k],p[k]))\n",
    "        r= float(np.dot(A,x[k+1]) -b)\n",
    "        bk= float((np.dot(r[k+1].T,A)*p[k])/((np.dot(p[k].T),A)*p[k]))\n",
    "        pk= float(-r[k+1]+np.dot(b[k+1],p[k]))\n",
    "        k=k+1\n",
    "        \n",
    "        return x[k]\n",
    "    \n",
    "desc_conj (A,b,np.array([[1,1,1,1,1]]).T,t=0.01)"
   ]
  },
  {
   "cell_type": "code",
   "execution_count": null,
   "metadata": {},
   "outputs": [],
   "source": []
  },
  {
   "cell_type": "code",
   "execution_count": null,
   "metadata": {},
   "outputs": [],
   "source": []
  },
  {
   "cell_type": "code",
   "execution_count": null,
   "metadata": {},
   "outputs": [],
   "source": []
  }
 ],
 "metadata": {
  "kernelspec": {
   "display_name": "Python 3",
   "language": "python",
   "name": "python3"
  },
  "language_info": {
   "codemirror_mode": {
    "name": "ipython",
    "version": 3
   },
   "file_extension": ".py",
   "mimetype": "text/x-python",
   "name": "python",
   "nbconvert_exporter": "python",
   "pygments_lexer": "ipython3",
   "version": "3.8.5"
  }
 },
 "nbformat": 4,
 "nbformat_minor": 4
}
