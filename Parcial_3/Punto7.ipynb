{
 "cells": [
  {
   "cell_type": "code",
   "execution_count": 1,
   "metadata": {},
   "outputs": [
    {
     "data": {
      "text/html": [
       "<style>.container { width:100% !important; }</style>"
      ],
      "text/plain": [
       "<IPython.core.display.HTML object>"
      ]
     },
     "metadata": {},
     "output_type": "display_data"
    }
   ],
   "source": [
    "from IPython.display import display, HTML\n",
    "display(HTML(\"<style>.container { width:100% !important; }</style>\"))\n",
    "import numpy as np\n",
    "import matplotlib.pyplot as plt\n",
    "from IPython.display import clear_output\n",
    "import time"
   ]
  },
  {
   "cell_type": "code",
   "execution_count": 19,
   "metadata": {},
   "outputs": [],
   "source": [
    "#Coeficientes\n",
    "A = np.array([[3,-1,-1],[-1.,3.,1.],[2,1,4]])\n",
    "#Resultado\n",
    "b = np.array([1.,3.,7.])"
   ]
  },
  {
   "cell_type": "code",
   "execution_count": 47,
   "metadata": {},
   "outputs": [],
   "source": [
    "def Jacobi(A,b,w,x0,itmax=1000,tolerancia=1e-14):\n",
    "    \n",
    "    x = x0.copy()\n",
    "    u = x.copy()\n",
    "    sumk = x.copy()\n",
    "    residuo = np.linalg.norm( np.dot(A,x) - b)\n",
    "    \n",
    "    print(residuo)\n",
    "    \n",
    "    it = 0\n",
    "    \n",
    "    while residuo >= tolerancia and it < itmax:\n",
    "        \n",
    "        \n",
    "        x[:] = 0\n",
    "        sumk[:] = 0.\n",
    "\n",
    "        for i in range(A.shape[0]):\n",
    "            for j in range(A.shape[1]):\n",
    "                if i != j:\n",
    "                    sumk[i] += A[i,j]*x[j]\n",
    "\n",
    "            \n",
    "        #Reemplazamos los valores con la formula 5.58\n",
    "        \n",
    "            x[i] = (1-w)*x[i]+ (w/A[i][i])*(b[i] - sumk[i])\n",
    "        \n",
    "        \n",
    "        x = u.copy()\n",
    "        \n",
    "        #print(x,residuo)\n",
    "        # Norma infinita\n",
    "        residuo = np.max(np.abs(np.dot(A,x) - b))\n",
    "        # Norma griega\n",
    "        #residuo = np.linalg.norm( np.dot(A,x) - b)\n",
    "        \n",
    "        it += 1\n",
    "        \n",
    "        if residuo > 1000:\n",
    "            print('No calculable con Jacobi')\n",
    "            x[:] = 0.\n",
    "            break\n",
    "        \n",
    "    return x,it\n",
    "\n",
    "def omg (x):\n",
    "    w=0\n",
    "    it_min= 0\n",
    "    for i in range(x):\n",
    "        it_min = x[i]\n",
    "        if w >1 and w<2:\n",
    "            sol= SOR\n",
    "    return w\n",
    "\n",
    "    "
   ]
  },
  {
   "cell_type": "code",
   "execution_count": 48,
   "metadata": {},
   "outputs": [
    {
     "name": "stdout",
     "output_type": "stream",
     "text": [
      "7.681145747868608\n"
     ]
    },
    {
     "data": {
      "text/plain": [
       "(array([0., 0., 0.]), 1000)"
      ]
     },
     "execution_count": 48,
     "metadata": {},
     "output_type": "execute_result"
    }
   ],
   "source": [
    "Jacobi(A,b,0.5,np.array([0.,0.,0.]))"
   ]
  },
  {
   "cell_type": "code",
   "execution_count": null,
   "metadata": {},
   "outputs": [],
   "source": []
  },
  {
   "cell_type": "code",
   "execution_count": null,
   "metadata": {},
   "outputs": [],
   "source": []
  },
  {
   "cell_type": "code",
   "execution_count": null,
   "metadata": {},
   "outputs": [],
   "source": []
  },
  {
   "cell_type": "code",
   "execution_count": null,
   "metadata": {},
   "outputs": [],
   "source": []
  },
  {
   "cell_type": "code",
   "execution_count": 9,
   "metadata": {},
   "outputs": [],
   "source": []
  },
  {
   "cell_type": "code",
   "execution_count": 12,
   "metadata": {},
   "outputs": [],
   "source": []
  },
  {
   "cell_type": "code",
   "execution_count": null,
   "metadata": {},
   "outputs": [],
   "source": []
  },
  {
   "cell_type": "code",
   "execution_count": null,
   "metadata": {},
   "outputs": [],
   "source": []
  },
  {
   "cell_type": "code",
   "execution_count": null,
   "metadata": {},
   "outputs": [],
   "source": []
  },
  {
   "cell_type": "code",
   "execution_count": null,
   "metadata": {},
   "outputs": [],
   "source": []
  }
 ],
 "metadata": {
  "kernelspec": {
   "display_name": "Python 3",
   "language": "python",
   "name": "python3"
  },
  "language_info": {
   "codemirror_mode": {
    "name": "ipython",
    "version": 3
   },
   "file_extension": ".py",
   "mimetype": "text/x-python",
   "name": "python",
   "nbconvert_exporter": "python",
   "pygments_lexer": "ipython3",
   "version": "3.8.5"
  }
 },
 "nbformat": 4,
 "nbformat_minor": 4
}
