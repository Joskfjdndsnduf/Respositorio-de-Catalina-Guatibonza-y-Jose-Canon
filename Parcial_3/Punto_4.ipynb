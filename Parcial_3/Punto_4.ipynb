{
 "cells": [
  {
   "cell_type": "code",
   "execution_count": 1,
   "metadata": {},
   "outputs": [],
   "source": [
    "import numpy as np\n",
    "\n",
    "def multi(m,vp):\n",
    "    c1=len(m[0])\n",
    "    f2=len(vp)\n",
    "    if c1!=f2:\n",
    "        print(\"las matrices no se pueden multiplicar\")\n",
    "    else:\n",
    "        f1=len(m)\n",
    "        c2=len(vp[0])\n",
    "        r=np.zeros(shape=(f1,c2))\n",
    "\n",
    "        for i in range(f1):\n",
    "            for j in range(c2):\n",
    "                for k in range(c1):\n",
    "                    r[i][j]+=m[i][k]*vp[k][j]\n",
    "        return r"
   ]
  },
  {
   "cell_type": "code",
   "execution_count": 2,
   "metadata": {},
   "outputs": [
    {
     "data": {
      "text/plain": [
       "array([[ 4., -2.,  1.],\n",
       "       [20., -7., 12.],\n",
       "       [-8., 13., 21.]])"
      ]
     },
     "execution_count": 2,
     "metadata": {},
     "output_type": "execute_result"
    }
   ],
   "source": [
    "A= np.array([[1,0,0],[5,1,0],[-2,3,1]])\n",
    "B=np.array([[4,-2,1],[0,3,7],[0,0,2]])\n",
    "\n",
    "multi(A,B)"
   ]
  },
  {
   "cell_type": "code",
   "execution_count": null,
   "metadata": {},
   "outputs": [],
   "source": []
  }
 ],
 "metadata": {
  "kernelspec": {
   "display_name": "Python 3",
   "language": "python",
   "name": "python3"
  },
  "language_info": {
   "codemirror_mode": {
    "name": "ipython",
    "version": 3
   },
   "file_extension": ".py",
   "mimetype": "text/x-python",
   "name": "python",
   "nbconvert_exporter": "python",
   "pygments_lexer": "ipython3",
   "version": "3.8.5"
  }
 },
 "nbformat": 4,
 "nbformat_minor": 4
}
