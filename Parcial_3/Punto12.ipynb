{
 "cells": [
  {
   "cell_type": "code",
   "execution_count": 96,
   "metadata": {},
   "outputs": [
    {
     "data": {
      "text/html": [
       "<style>.container { width:90% !important; }</style>"
      ],
      "text/plain": [
       "<IPython.core.display.HTML object>"
      ]
     },
     "metadata": {},
     "output_type": "display_data"
    }
   ],
   "source": [
    "from IPython.display import display, HTML\n",
    "display(HTML(\"<style>.container { width:90% !important; }</style>\"))\n",
    "import numpy as np\n",
    "import matplotlib.pyplot as plt\n",
    "\n",
    "\n",
    "G = np.array([lambda x,y,z: 6*x - 2*np.cos(y*z) - 1.,\n",
    "     lambda x,y,z: 9*y + np.sqrt( x**2 + np.sin(z) + 1.06 ) + 0.9,\n",
    "     lambda x,y,z: 60*z + 3*np.exp(-x*y)+10*np.pi - 3])\n",
    "#r=np.array([0.,0.,0.]\n",
    "#vector evaluado en un punto inicial calcula F(Xn-1)\n",
    "def GetF(G,r):\n",
    "    \n",
    "    n = r.shape[0]\n",
    "    \n",
    "    v = np.zeros_like(r)\n",
    "    \n",
    "    for i in range(n):\n",
    "        v[i] = G[i](r[0],r[1],r[2])\n",
    "        \n",
    "    return v\n"
   ]
  },
  {
   "cell_type": "code",
   "execution_count": null,
   "metadata": {},
   "outputs": [],
   "source": []
  },
  {
   "cell_type": "code",
   "execution_count": 105,
   "metadata": {},
   "outputs": [
    {
     "data": {
      "text/plain": [
       "array([-3.        ,  1.92956301, 31.41592654])"
      ]
     },
     "execution_count": 105,
     "metadata": {},
     "output_type": "execute_result"
    }
   ],
   "source": [
    "GetF(G,np.array([0.,0.,0.]))"
   ]
  },
  {
   "cell_type": "code",
   "execution_count": 101,
   "metadata": {},
   "outputs": [],
   "source": [
    "def GetJacobian(f,r,h=1e-6):\n",
    "    \n",
    "    n = r.shape[0]\n",
    "    \n",
    "    J = np.zeros((n,n))\n",
    "    \n",
    "    for i in range(n):\n",
    "        for j in range(n):\n",
    "            \n",
    "            rf = r.copy()\n",
    "            rb = r.copy()\n",
    "            \n",
    "            rf[j] = rf[j] + h\n",
    "            rb[j] = rb[j] - h\n",
    "            \n",
    "            J[i,j] = ( f[i](rf[0],rf[1],rf[2]) - f[i](rb[0],rb[1],rb[2])  )/(2*h)\n",
    "            \n",
    "    \n",
    "    return J\n"
   ]
  },
  {
   "cell_type": "code",
   "execution_count": null,
   "metadata": {},
   "outputs": [],
   "source": [
    "GetJacobianbian()"
   ]
  },
  {
   "cell_type": "code",
   "execution_count": 109,
   "metadata": {},
   "outputs": [],
   "source": [
    "def NewtonRaphson(G,r,itmax=1000,error=1e-9):\n",
    "    \n",
    "    it = 0\n",
    "    d = 1.\n",
    "    dvector = []\n",
    "    \n",
    "    while d > error and it < itmax:\n",
    "        \n",
    "        # Vector actual\n",
    "        rc = r\n",
    "        \n",
    "        F = GetF(G,rc)\n",
    "        J = GetJacobian(G,rc)\n",
    "        InvJ = np.linalg.inv(J)\n",
    "        \n",
    "        r = rc - np.dot(InvJ,F)\n",
    "        \n",
    "        diff = r - rc\n",
    "        \n",
    "        d = np.max( np.abs(diff) )\n",
    "        \n",
    "        dvector.append(d)\n",
    "        print(dvector)\n",
    "        \n",
    "        it += 1\n",
    "    \n",
    "    print(it)\n",
    "    return r,dvector"
   ]
  },
  {
   "cell_type": "code",
   "execution_count": 110,
   "metadata": {},
   "outputs": [
    {
     "name": "stdout",
     "output_type": "stream",
     "text": [
      "[0.5235987756181211]\n",
      "[0.5235987756181211, 0.013464494608999344]\n",
      "[0.5235987756181211, 0.013464494608999344, 1.3125552370152338e-05]\n",
      "[0.5235987756181211, 0.013464494608999344, 1.3125552370152338e-05, 7.48751061152575e-12]\n",
      "4\n"
     ]
    }
   ],
   "source": [
    "r,dvector = NewtonRaphson(G,np.array([0.,0.,0.]))"
   ]
  },
  {
   "cell_type": "code",
   "execution_count": 36,
   "metadata": {},
   "outputs": [
    {
     "data": {
      "text/plain": [
       "array([ 0.49814468, -0.1996059 , -0.52882598])"
      ]
     },
     "execution_count": 36,
     "metadata": {},
     "output_type": "execute_result"
    }
   ],
   "source": [
    "r"
   ]
  },
  {
   "cell_type": "code",
   "execution_count": 56,
   "metadata": {},
   "outputs": [],
   "source": [
    "G = np.array([lambda x,y: np.log(x**2 + y**2) - np.sin(x*y)-np.log(2)-np.log(np.pi),\n",
    "     lambda x,y: np.exp(x-y) + np.cos(x*y)])\n"
   ]
  },
  {
   "cell_type": "code",
   "execution_count": 161,
   "metadata": {},
   "outputs": [],
   "source": [
    "def GetF(G,r):\n",
    "    \n",
    "    n = r.shape[0]\n",
    "    \n",
    "    v = np.zeros_like(r)\n",
    "    \n",
    "    for i in range(n):\n",
    "        v[i] = G[i](r[0],r[1])\n",
    "        \n",
    "    return v\n",
    "\n",
    "def GetJacobian(f,r,h=1e-6):\n",
    "    \n",
    "    n = r.shape[0]\n",
    "    \n",
    "    J = np.zeros((n,n))\n",
    "    \n",
    "    for i in range(n):\n",
    "        for j in range(n):\n",
    "            \n",
    "            rf = r.copy()\n",
    "            rb = r.copy()\n",
    "            \n",
    "            rf[j] = rf[j] + h\n",
    "            rb[j] = rb[j] - h\n",
    "            \n",
    "            J[i,j] = ( f[i](rf[0],rf[1]) - f[i](rb[0],rb[1]))/(2*h)\n",
    "            \n",
    "    \n",
    "    return J\n",
    "\n",
    "def NewtonRaphson(G,r,itmax=1000,error=1e-9):\n",
    "    \n",
    "    it = 0\n",
    "    d = 1.\n",
    "    dvector = []\n",
    "    \n",
    "    while d > error and it < itmax:\n",
    "        \n",
    "        # Vector actual\n",
    "        rc = r\n",
    "        \n",
    "        F = GetF(G,rc)\n",
    "        J = GetJacobian(G,rc)\n",
    "        InvJ = np.linalg.inv(J)\n",
    "        \n",
    "        r = rc - np.matmul(InvJ,F)\n",
    "        \n",
    "        diff = r - rc\n",
    "        \n",
    "        d = np.max( np.abs(diff) )\n",
    "        \n",
    "        dvector.append(d)\n",
    "        print(dvector)\n",
    "        \n",
    "        it += 1\n",
    "    \n",
    "    print(it)\n",
    "    return r,dvector"
   ]
  },
  {
   "cell_type": "code",
   "execution_count": 162,
   "metadata": {},
   "outputs": [
    {
     "name": "stdout",
     "output_type": "stream",
     "text": [
      "[0.5210944589277715]\n",
      "[0.5210944589277715, 0.23011830231874875]\n",
      "[0.5210944589277715, 0.23011830231874875, 0.05938786252744843]\n",
      "[0.5210944589277715, 0.23011830231874875, 0.05938786252744843, 0.004026892593212761]\n",
      "[0.5210944589277715, 0.23011830231874875, 0.05938786252744843, 0.004026892593212761, 1.525217710929283e-05]\n",
      "[0.5210944589277715, 0.23011830231874875, 0.05938786252744843, 0.004026892593212761, 1.525217710929283e-05, 2.1676838102280271e-10]\n",
      "6\n"
     ]
    }
   ],
   "source": [
    "r,dvector = NewtonRaphson(G,np.array([2.,2.]))"
   ]
  },
  {
   "cell_type": "code",
   "execution_count": 163,
   "metadata": {},
   "outputs": [
    {
     "data": {
      "text/plain": [
       "array([1.77245385, 1.77245385])"
      ]
     },
     "execution_count": 163,
     "metadata": {},
     "output_type": "execute_result"
    }
   ],
   "source": [
    "r"
   ]
  },
  {
   "cell_type": "code",
   "execution_count": null,
   "metadata": {},
   "outputs": [],
   "source": [
    "# Descenso del gradiente"
   ]
  },
  {
   "cell_type": "code",
   "execution_count": 128,
   "metadata": {},
   "outputs": [
    {
     "data": {
      "text/html": [
       "<style>.container { width:100% !important; }</style>"
      ],
      "text/plain": [
       "<IPython.core.display.HTML object>"
      ]
     },
     "metadata": {},
     "output_type": "display_data"
    }
   ],
   "source": [
    "from IPython.display import display, HTML\n",
    "display(HTML(\"<style>.container { width:100% !important; }</style>\"))\n",
    "\n",
    "import numpy as np\n",
    "import matplotlib.pyplot as plt\n",
    "from IPython.display import clear_output\n",
    "import time\n",
    "\n"
   ]
  },
  {
   "cell_type": "code",
   "execution_count": 177,
   "metadata": {},
   "outputs": [
    {
     "name": "stderr",
     "output_type": "stream",
     "text": [
      "<ipython-input-119-e31be8554ed3>:11: RuntimeWarning: overflow encountered in exp\n",
      "  lambda x,y,z: 60*z + 3*np.exp(-x*y)+10*np.pi - 3])\n",
      "<ipython-input-177-f27319aaaffb>:36: RuntimeWarning: invalid value encountered in double_scalars\n",
      "  J[i,j] = (f[i](rf[0],rf[1],rf[2]) - f[i](rb[0],rb[1],rb[2]))/(2*h)\n"
     ]
    }
   ],
   "source": [
    "G = np.array([lambda x,y,z: 6*x - 2*np.cos(y*z) - 1.,\n",
    "     lambda x,y,z: 9*y + np.sqrt( x**2 + np.sin(z) + 1.06 ) + 0.9,\n",
    "     lambda x,y,z: 60*z + 3*np.exp(-x*y)+10*np.pi - 3])\n",
    "\n",
    "\n",
    "def GetF(G,r):\n",
    "    \n",
    "    n = r.shape[0]\n",
    "    \n",
    "    v = np.zeros_like(r)\n",
    "    \n",
    "    for i in range(n):\n",
    "        v[i] = G[i](r[0],r[1],r[2])\n",
    "        \n",
    "    return v\n",
    "\n",
    "def Metric(G,r):\n",
    "    return 0.5*np.linalg.norm(GetF(G,r))**2\n",
    "\n",
    "\n",
    "def GetJacobian(f,r,h=1e-6):\n",
    "    \n",
    "    n = r.shape[0]\n",
    "    \n",
    "    J = np.zeros((n,n))\n",
    "    \n",
    "    for i in range(n):\n",
    "        for j in range(n):\n",
    "            \n",
    "            rf = r.copy()\n",
    "            rb = r.copy()\n",
    "            \n",
    "            rf[j] = rf[j] + h\n",
    "            rb[j] = rb[j] - h\n",
    "            \n",
    "            J[i,j] = (f[i](rf[0],rf[1],rf[2]) - f[i](rb[0],rb[1],rb[2]))/(2*h)\n",
    "            \n",
    "    \n",
    "    return J\n",
    "def Minimizer(G,r,lr=1e-2,epochs=int(1e4),error=1e-7):\n",
    "    \n",
    "    metric = 1\n",
    "    it = 0\n",
    "    \n",
    "    M = np.array([])\n",
    "    R = np.array([r])\n",
    "    \n",
    "    while metric > error and it < epochs:\n",
    "        \n",
    "        M = np.append(M,Metric(G,r))\n",
    "        \n",
    "        J = GetJacobian(G,r)\n",
    "        Vector = GetF(G,r)\n",
    "        \n",
    "        # Machine learning\n",
    "        r -= lr*np.dot(J,Vector)\n",
    "        \n",
    "        R = np.vstack((R,r))\n",
    "        \n",
    "        metric = Metric(G,r)\n",
    "        \n",
    "        it += 1\n",
    "        \n",
    "        if it%50 == 0:\n",
    "            print(r)\n",
    "    \n",
    "    return r\n",
    "xsol = Minimizer(G1,np.array([0.,0.,0.]))"
   ]
  },
  {
   "cell_type": "code",
   "execution_count": 130,
   "metadata": {},
   "outputs": [],
   "source": []
  },
  {
   "cell_type": "code",
   "execution_count": 131,
   "metadata": {},
   "outputs": [],
   "source": []
  },
  {
   "cell_type": "code",
   "execution_count": null,
   "metadata": {},
   "outputs": [],
   "source": []
  },
  {
   "cell_type": "code",
   "execution_count": 170,
   "metadata": {},
   "outputs": [],
   "source": [
    "import numpy as np\n",
    "import matplotlib.pyplot as plt\n",
    "from mpl_toolkits.mplot3d import axes3d\n",
    "import matplotlib.animation as animation\n",
    "from tqdm import tqdm"
   ]
  },
  {
   "cell_type": "code",
   "execution_count": null,
   "metadata": {},
   "outputs": [],
   "source": [
    "\n"
   ]
  },
  {
   "cell_type": "code",
   "execution_count": 195,
   "metadata": {},
   "outputs": [
    {
     "data": {
      "text/plain": [
       "array([[ 3.74627882,  1.48682678],\n",
       "       [ 0.26985564, -1.51681428]])"
      ]
     },
     "execution_count": 195,
     "metadata": {},
     "output_type": "execute_result"
    }
   ],
   "source": [
    "import numpy as np\n",
    "\n",
    "def f2(x,y):\n",
    "    return np.array([np.log(x**2 + y**2) - np.sin(x*y) - np.log(2) - np.log(np.pi),\n",
    "                     np.exp(x-y) + np.cos(x*y)])\n",
    "\n",
    "x0, y0 = 0.5, 0.1\n",
    "\n",
    "Dx = lambda f,x,y, h=1e-5: (f(x+h,y) - f(x-h,y)) / (2*h)\n",
    "Dy = lambda f,x,y, h=1e-5: (f(x,y+h) - f(x,y-h)) / (2*h)\n",
    "\n",
    "Gradiente = lambda f,x,y: np.array([Dx(f,x,y), Dy(f,x,y)])\n",
    "sol = Gradiente(f2,x0,y0)\n",
    "sol"
   ]
  },
  {
   "cell_type": "code",
   "execution_count": 167,
   "metadata": {},
   "outputs": [
    {
     "name": "stderr",
     "output_type": "stream",
     "text": [
      "100%|██████████| 199/199 [00:00<00:00, 13522.78it/s]\n"
     ]
    }
   ],
   "source": [
    "def Minimizer(f, N = 100, gamma = 0.01):\n",
    "    \n",
    "    r = np.zeros((N,2))\n",
    "    r[0] = np.random.uniform(-5.,5.,size=2)\n",
    "    \n",
    "    Grad = np.zeros((N,2))\n",
    "    Grad[0] = Gradient(f,r[0,0],r[0,1])\n",
    "    \n",
    "    # We save the gradient in each step\n",
    "\n",
    "    for i in tqdm(range(1,N)):\n",
    "        r[i] = r[i-1] - gamma*Gradient(f,r[i-1,0],r[i-1,1])\n",
    "        Grad[i] = Gradient(f,r[i-1,0],r[i-1,1])\n",
    "        \n",
    "        \n",
    "    return r,Grad\n",
    "N = 200\n",
    "r,Grad = Minimizer(f2,N)"
   ]
  },
  {
   "cell_type": "code",
   "execution_count": null,
   "metadata": {},
   "outputs": [],
   "source": []
  },
  {
   "cell_type": "code",
   "execution_count": null,
   "metadata": {},
   "outputs": [],
   "source": []
  },
  {
   "cell_type": "code",
   "execution_count": null,
   "metadata": {},
   "outputs": [],
   "source": []
  },
  {
   "cell_type": "code",
   "execution_count": null,
   "metadata": {},
   "outputs": [],
   "source": []
  },
  {
   "cell_type": "code",
   "execution_count": null,
   "metadata": {},
   "outputs": [],
   "source": []
  },
  {
   "cell_type": "code",
   "execution_count": null,
   "metadata": {},
   "outputs": [],
   "source": [
    "\n",
    "#ln(x^2+y^2)-sen(xy)=ln(2)+ln(pi)\n",
    "#e^(x-y)+cos(xy)=0"
   ]
  }
 ],
 "metadata": {
  "kernelspec": {
   "display_name": "Python 3",
   "language": "python",
   "name": "python3"
  },
  "language_info": {
   "codemirror_mode": {
    "name": "ipython",
    "version": 3
   },
   "file_extension": ".py",
   "mimetype": "text/x-python",
   "name": "python",
   "nbconvert_exporter": "python",
   "pygments_lexer": "ipython3",
   "version": "3.8.5"
  }
 },
 "nbformat": 4,
 "nbformat_minor": 4
}
