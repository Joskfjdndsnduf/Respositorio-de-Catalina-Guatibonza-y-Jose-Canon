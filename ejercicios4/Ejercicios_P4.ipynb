{
 "cells": [
  {
   "cell_type": "code",
   "execution_count": 1,
   "metadata": {},
   "outputs": [],
   "source": [
    "#minimos cuafrados 1a"
   ]
  },
  {
   "cell_type": "code",
   "execution_count": 106,
   "metadata": {},
   "outputs": [
    {
     "name": "stdout",
     "output_type": "stream",
     "text": [
      "(3, 2)\n",
      "(3,)\n"
     ]
    }
   ],
   "source": [
    "x = np.linspace(0,8,10)\n",
    "y = np.zeros((3,len(x)))\n",
    "\n",
    "y[0] = 2*x-2\n",
    "y[1] = -0.5*x + 0.5\n",
    "y[2] = 4 - x\n",
    "\n",
    "A = np.array([[2,-1],[1,2],[1,1]])\n",
    "b = np.array([2,1,4])\n",
    "At = A.T\n",
    "print(A.shape)\n",
    "print(b.shape)"
   ]
  },
  {
   "cell_type": "code",
   "execution_count": 94,
   "metadata": {},
   "outputs": [
    {
     "name": "stdout",
     "output_type": "stream",
     "text": [
      "[[ 2  1  1]\n",
      " [-1  2  1]]\n"
     ]
    }
   ],
   "source": [
    "print(At)"
   ]
  },
  {
   "cell_type": "code",
   "execution_count": 95,
   "metadata": {},
   "outputs": [
    {
     "name": "stdout",
     "output_type": "stream",
     "text": [
      "[[6 1]\n",
      " [1 6]]\n"
     ]
    }
   ],
   "source": [
    "M = np.dot(At,A)\n",
    "print(M)"
   ]
  },
  {
   "cell_type": "code",
   "execution_count": 96,
   "metadata": {},
   "outputs": [
    {
     "name": "stdout",
     "output_type": "stream",
     "text": [
      "[9 4]\n"
     ]
    }
   ],
   "source": [
    "bt = np.dot(At,b)\n",
    "print(bt)"
   ]
  },
  {
   "cell_type": "code",
   "execution_count": 99,
   "metadata": {},
   "outputs": [
    {
     "name": "stdout",
     "output_type": "stream",
     "text": [
      "[1.42857143 0.42857143]\n"
     ]
    }
   ],
   "source": [
    "xsol = np.linalg.solve(M,bt)\n",
    "print(xsol)"
   ]
  },
  {
   "cell_type": "code",
   "execution_count": 100,
   "metadata": {},
   "outputs": [
    {
     "data": {
      "text/plain": [
       "<matplotlib.collections.PathCollection at 0x7f7dcabc2550>"
      ]
     },
     "execution_count": 100,
     "metadata": {},
     "output_type": "execute_result"
    },
    {
     "data": {
      "image/png": "[encoded data removed]",
      "text/plain": [
       "<Figure size 432x288 with 1 Axes>"
      ]
     },
     "metadata": {
      "needs_background": "light"
     },
     "output_type": "display_data"
    }
   ],
   "source": [
    "for l in range(y.shape[0]):\n",
    "    plt.plot(x,y[l],ls='--',lw=2)\n",
    "plt.scatter(xsol[0],xsol[1],color='r')"
   ]
  },
  {
   "cell_type": "code",
   "execution_count": 103,
   "metadata": {},
   "outputs": [
    {
     "data": {
      "text/plain": [
       "2.5354627641855494"
      ]
     },
     "execution_count": 103,
     "metadata": {},
     "output_type": "execute_result"
    }
   ],
   "source": [
    "# Esta sería la menor distancia\n",
    "np.linalg.norm(np.dot(A,xsol)-b)\n"
   ]
  },
  {
   "cell_type": "code",
   "execution_count": 102,
   "metadata": {},
   "outputs": [
    {
     "data": {
      "text/plain": [
       "5.0"
      ]
     },
     "execution_count": 102,
     "metadata": {},
     "output_type": "execute_result"
    }
   ],
   "source": [
    "# En otro lugar, la distancia siempre es mayor.\n",
    "np.linalg.norm(np.dot(A,[2.,2.])-b)"
   ]
  },
  {
   "cell_type": "code",
   "execution_count": 104,
   "metadata": {},
   "outputs": [],
   "source": [
    "#1b"
   ]
  },
  {
   "cell_type": "code",
   "execution_count": null,
   "metadata": {},
   "outputs": [],
   "source": [
    "##########\n",
    "import numpy as np\n",
    "import matplotlib.pyplot as plt\n",
    "from mpl_toolkits.mplot3d import Axes3D\n",
    "\n",
    "def f1(x, y):\n",
    "    return 2*x - y - 2\n",
    "\n",
    "def f2(x, y):\n",
    "    return x + 2*y - 1\n",
    "\n",
    "def f3(x, y):\n",
    "    return x + y - 4\n",
    "\n",
    "def distancia(f1, f2, f3):\n",
    "    return np.sqrt(f1**2 + f2**2 + f3**2)\n",
    "\n",
    "x = np.arange(-5, 5, 0.01)\n",
    "y = np.arange(-5, 5, 0.01)\n",
    "x, y = np.meshgrid(x, y)\n",
    "\n",
    "dist = distancia(f1(x, y), f2(x, y), f3(x, y))\n",
    "\n",
    "minimo = np.unravel_index(np.argmin(dist, axis=None), dist.shape)\n",
    "\n",
    "fig = plt.figure()\n",
    "ax = fig.add_subplot(111, projection='3d')\n",
    "ax.plot_surface(x, y, dist, cmap='viridis')\n",
    "ax.scatter(x[minimo], y[minimo], dist[minimo], color='r')\n",
    "ax.set_xlabel('X')\n",
    "ax.set_ylabel('Y')\n",
    "ax.set_zlabel('Distancia')\n",
    "plt.show()\n",
    "\n",
    "print(f\"La menor distancia es {dist[minimo]} en el punto ({x[minimo]}, {y[minimo]})\")\n"
   ]
  },
  {
   "cell_type": "code",
   "execution_count": 116,
   "metadata": {},
   "outputs": [
    {
     "name": "stdout",
     "output_type": "stream",
     "text": [
      "(3, 2)\n",
      "(3,)\n",
      "[[ 2  1  1]\n",
      " [-1  2  1]]\n",
      "[[6 1]\n",
      " [1 6]]\n",
      "[9 4]\n",
      "[1.42857143 0.42857143]\n"
     ]
    },
    {
     "data": {
      "text/plain": [
       "<matplotlib.collections.PathCollection at 0x7f7dd00ee100>"
      ]
     },
     "execution_count": 116,
     "metadata": {},
     "output_type": "execute_result"
    },
    {
     "data": {
      "image/png": "[encoded data removed]",
      "text/plain": [
       "<Figure size 432x288 with 1 Axes>"
      ]
     },
     "metadata": {
      "needs_background": "light"
     },
     "output_type": "display_data"
    }
   ],
   "source": [
    "b=np.linspace (-5,5,100)\n",
    "\n",
    "f1 = lambda x,y: 2*x - y -2\n",
    "f2 = lambda x,y: x + 2*y -1\n",
    "f3 = lambda x,y: x + y -4\n"
   ]
  },
  {
   "cell_type": "code",
   "execution_count": 114,
   "metadata": {},
   "outputs": [
    {
     "data": {
      "text/html": [
       "<style>.container { width:90% !important; }</style>"
      ],
      "text/plain": [
       "<IPython.core.display.HTML object>"
      ]
     },
     "metadata": {},
     "output_type": "display_data"
    },
    {
     "name": "stdout",
     "output_type": "stream",
     "text": [
      "rm: Data/*: No such file or directory\n",
      "File loaded\n"
     ]
    },
    {
     "data": {
      "text/plain": [
       "<matplotlib.legend.Legend at 0x7f7dcf09d8b0>"
      ]
     },
     "execution_count": 114,
     "metadata": {},
     "output_type": "execute_result"
    },
    {
     "data": {
      "image/png": "[encoded data removed]",
      "text/plain": [
       "<Figure size 432x288 with 1 Axes>"
      ]
     },
     "metadata": {
      "needs_background": "light"
     },
     "output_type": "display_data"
    }
   ],
   "source": [
    "x = np.linspace(0,8,10)\n",
    "y = np.zeros((3,len(x)))\n",
    "\n",
    "y[0] = 2*x-2\n",
    "y[1] = -0.5*x + 0.5\n",
    "y[2] = 4 - x\n",
    "\n",
    "A = np.array([[2,-1],[1,2],[1,1]])\n",
    "b = np.array([2,1,4])\n",
    "At = A.T\n",
    "print(A.shape)\n",
    "print(b.shape)\n",
    "print(At)\n",
    "M = np.dot(At,A)\n",
    "print(M)\n",
    "bt = np.dot(At,b)\n",
    "print(bt)\n",
    "xsol = np.linalg.solve(M,bt)\n",
    "print(xsol)\n",
    "for l in range(y.shape[0]):\n",
    "    plt.plot(x,y[l],ls='--',lw=2)\n",
    "plt.scatter(xsol[0],xsol[1],color='r')"
   ]
  },
  {
   "cell_type": "code",
   "execution_count": 1,
   "metadata": {},
   "outputs": [],
   "source": []
  },
  {
   "cell_type": "code",
   "execution_count": 1,
   "metadata": {},
   "outputs": [],
   "source": []
  },
  {
   "cell_type": "code",
   "execution_count": 1,
   "metadata": {},
   "outputs": [],
   "source": []
  },
  {
   "cell_type": "code",
   "execution_count": 1,
   "metadata": {},
   "outputs": [],
   "source": []
  },
  {
   "cell_type": "code",
   "execution_count": 1,
   "metadata": {},
   "outputs": [],
   "source": []
  },
  {
   "cell_type": "code",
   "execution_count": 97,
   "metadata": {},
   "outputs": [],
   "source": [
    "#markov 1\n",
    "\n",
    "#c\n",
    "\n",
    "import matplotlib.pyplot as plt\n",
    "from itertools import permutations\n",
    "import numpy as np\n",
    "from itertools import combinations_with_replacement\n",
    "\n",
    "Pj= np.array([[0.5, 0.5]]) # cara sello\n",
    "Ps= np.array([[0.9, 0.1]])\n",
    "\n",
    "T = np.array([[0.8, 0.2],\n",
    "              [0.2,0.8]])\n",
    "E = np.array([[0.5, 0.9],\n",
    "              [0.5,0.1]])\n",
    "\n",
    "States= np.array([0,1]) #0 S, 1 C\n",
    "\n",
    "DictH = {0:'Sello',1:'Cara'} \n",
    "\n",
    "apri=np.array([0.2, 0.8]) #para ps y pj\n",
    "\n",
    "Obs= np.array([0,1,1,1,0,1,0,1])\n",
    "#(S,C,C,C,S,C,S,C)\n"
   ]
  },
  {
   "cell_type": "code",
   "execution_count": 98,
   "metadata": {},
   "outputs": [],
   "source": [
    "def GetStates(States,N):\n",
    "    \n",
    "    CStates = list( combinations_with_replacement(States,N) )\n",
    "    \n",
    "    print(CStates)\n",
    "    \n",
    "    Permu = []\n",
    "    \n",
    "    for it in CStates:\n",
    "        p = list(permutations(it,N))\n",
    "       # print(p)\n",
    "        \n",
    "        for i in p:\n",
    "            if i not in Permu:\n",
    "                Permu.append(i)\n",
    "                \n",
    "    return np.array(Permu)"
   ]
  },
  {
   "cell_type": "code",
   "execution_count": 59,
   "metadata": {},
   "outputs": [
    {
     "name": "stdout",
     "output_type": "stream",
     "text": [
      "[(0, 0, 0, 0, 0, 0, 0, 0), (0, 0, 0, 0, 0, 0, 0, 1), (0, 0, 0, 0, 0, 0, 1, 1), (0, 0, 0, 0, 0, 1, 1, 1), (0, 0, 0, 0, 1, 1, 1, 1), (0, 0, 0, 1, 1, 1, 1, 1), (0, 0, 1, 1, 1, 1, 1, 1), (0, 1, 1, 1, 1, 1, 1, 1), (1, 1, 1, 1, 1, 1, 1, 1)]\n"
     ]
    },
    {
     "data": {
      "text/plain": [
       "array([[0, 0, 0, ..., 0, 0, 0],\n",
       "       [0, 0, 0, ..., 0, 0, 1],\n",
       "       [0, 0, 0, ..., 0, 1, 0],\n",
       "       ...,\n",
       "       [1, 1, 1, ..., 1, 0, 1],\n",
       "       [1, 1, 1, ..., 1, 1, 0],\n",
       "       [1, 1, 1, ..., 1, 1, 1]])"
      ]
     },
     "execution_count": 59,
     "metadata": {},
     "output_type": "execute_result"
    }
   ],
   "source": [
    "HiddenStates = GetStates(States,8)\n",
    "HiddenStates"
   ]
  },
  {
   "cell_type": "code",
   "execution_count": 60,
   "metadata": {},
   "outputs": [],
   "source": [
    "def GetProb(T,E,Obs,State,Prior):\n",
    "    \n",
    "    n = len(Obs)\n",
    "    p = 1.\n",
    "    \n",
    "    p *= Prior[State[0]]\n",
    "    \n",
    "    # Matriz de transicion\n",
    "    for i in range(n-1):\n",
    "        p *= T[ State[i+1], State[i]  ]\n",
    "        \n",
    "    for i in range(n):\n",
    "        p *= E[ Obs[i], State[i] ]\n",
    "        \n",
    "    return p\n"
   ]
  },
  {
   "cell_type": "code",
   "execution_count": 61,
   "metadata": {},
   "outputs": [],
   "source": [
    "P = np.zeros(HiddenStates.shape[0], dtype=np.float64)"
   ]
  },
  {
   "cell_type": "code",
   "execution_count": 62,
   "metadata": {},
   "outputs": [
    {
     "name": "stdout",
     "output_type": "stream",
     "text": [
      "[1.63840000e-04 8.19200000e-06 1.84320000e-05 2.04800000e-06\n",
      " 1.84320000e-05 2.04800000e-06 2.04800000e-06 2.04800000e-06\n",
      " 2.94912000e-04 1.47456000e-05 1.02400000e-07 3.68640000e-06\n",
      " 9.21600000e-07 2.07360000e-06 3.68640000e-06 1.02400000e-07\n",
      " 2.30400000e-07 2.56000000e-08 3.68640000e-06 1.02400000e-07\n",
      " 2.30400000e-07 2.56000000e-08 2.30400000e-07 4.09600000e-07\n",
      " 1.02400000e-07 2.30400000e-07 2.56000000e-08 2.30400000e-07\n",
      " 2.56000000e-08 4.09600000e-07 1.47456000e-05 3.31776000e-05\n",
      " 3.68640000e-06 3.31776000e-05 3.68640000e-06 3.68640000e-06\n",
      " 5.89824000e-05 2.94912000e-06 1.65888000e-06 1.84320000e-07\n",
      " 6.63552000e-06 1.84320000e-07 1.28000000e-09 4.60800000e-08\n",
      " 1.84320000e-07 4.14720000e-07 7.37280000e-07 1.84320000e-07\n",
      " 1.28000000e-09 4.60800000e-08 1.15200000e-08 2.59200000e-08\n",
      " 4.60800000e-08 2.04800000e-08 4.60800000e-08 5.12000000e-09\n",
      " 7.37280000e-07 1.84320000e-07 1.28000000e-09 4.60800000e-08\n",
      " 1.15200000e-08 2.59200000e-08 4.60800000e-08 1.28000000e-09\n",
      " 2.88000000e-09 3.20000000e-10 4.60800000e-08 2.04800000e-08\n",
      " 4.60800000e-08 5.12000000e-09 4.60800000e-08 8.19200000e-08\n",
      " 2.65420800e-05 1.84320000e-07 6.63552000e-06 1.65888000e-06\n",
      " 3.73248000e-06 6.63552000e-06 1.84320000e-07 4.14720000e-07\n",
      " 4.60800000e-08 6.63552000e-06 1.84320000e-07 4.14720000e-07\n",
      " 4.60800000e-08 4.14720000e-07 7.37280000e-07 2.94912000e-06\n",
      " 6.63552000e-06 7.37280000e-07 6.63552000e-06 7.37280000e-07\n",
      " 1.17964800e-05 5.30841600e-06 3.68640000e-08 3.31776000e-07\n",
      " 3.68640000e-08 1.32710400e-06 3.68640000e-08 2.07360000e-08\n",
      " 2.30400000e-09 8.29440000e-08 3.68640000e-08 2.56000000e-10\n",
      " 9.21600000e-09 3.68640000e-08 8.29440000e-08 1.47456000e-07\n",
      " 3.68640000e-08 2.07360000e-08 2.30400000e-09 8.29440000e-08\n",
      " 2.30400000e-09 1.60000000e-11 5.76000000e-10 2.30400000e-09\n",
      " 5.18400000e-09 9.21600000e-09 3.68640000e-08 2.56000000e-10\n",
      " 9.21600000e-09 2.30400000e-09 5.18400000e-09 9.21600000e-09\n",
      " 4.09600000e-09 9.21600000e-09 1.02400000e-09 1.47456000e-07\n",
      " 5.30841600e-06 2.98598400e-06 3.31776000e-07 1.19439360e-05\n",
      " 3.31776000e-07 2.30400000e-09 8.29440000e-08 3.31776000e-07\n",
      " 7.46496000e-07 1.32710400e-06 3.31776000e-07 2.30400000e-09\n",
      " 8.29440000e-08 2.07360000e-08 4.66560000e-08 8.29440000e-08\n",
      " 3.68640000e-08 8.29440000e-08 9.21600000e-09 1.32710400e-06\n",
      " 5.30841600e-06 3.68640000e-08 1.32710400e-06 3.31776000e-07\n",
      " 7.46496000e-07 1.32710400e-06 3.68640000e-08 8.29440000e-08\n",
      " 9.21600000e-09 1.32710400e-06 5.89824000e-07 1.32710400e-06\n",
      " 1.47456000e-07 1.32710400e-06 2.35929600e-06 1.06168320e-06\n",
      " 6.63552000e-08 7.37280000e-09 6.63552000e-08 7.37280000e-09\n",
      " 2.65420800e-07 6.63552000e-08 4.60800000e-10 4.14720000e-09\n",
      " 4.60800000e-10 1.65888000e-08 7.37280000e-09 4.14720000e-09\n",
      " 4.60800000e-10 1.65888000e-08 7.37280000e-09 5.12000000e-11\n",
      " 1.84320000e-09 7.37280000e-09 1.65888000e-08 2.94912000e-08\n",
      " 9.55514880e-06 6.63552000e-08 5.97196800e-07 6.63552000e-08\n",
      " 2.38878720e-06 6.63552000e-08 3.73248000e-08 4.14720000e-09\n",
      " 1.49299200e-07 6.63552000e-08 4.60800000e-10 1.65888000e-08\n",
      " 6.63552000e-08 1.49299200e-07 2.65420800e-07 1.06168320e-06\n",
      " 5.97196800e-07 6.63552000e-08 2.38878720e-06 6.63552000e-08\n",
      " 4.60800000e-10 1.65888000e-08 6.63552000e-08 1.49299200e-07\n",
      " 2.65420800e-07 1.06168320e-06 7.37280000e-09 2.65420800e-07\n",
      " 6.63552000e-08 1.49299200e-07 2.65420800e-07 1.17964800e-07\n",
      " 2.65420800e-07 2.94912000e-08 4.24673280e-06 2.12336640e-07\n",
      " 1.32710400e-08 1.32710400e-08 1.47456000e-09 1.32710400e-08\n",
      " 1.47456000e-09 5.30841600e-08 1.91102976e-06 1.19439360e-07\n",
      " 1.32710400e-08 1.19439360e-07 1.32710400e-08 4.77757440e-07\n",
      " 1.91102976e-06 1.32710400e-08 1.19439360e-07 1.32710400e-08\n",
      " 4.77757440e-07 2.12336640e-07 1.19439360e-07 1.32710400e-08\n",
      " 4.77757440e-07 2.12336640e-07 1.47456000e-09 5.30841600e-08\n",
      " 2.12336640e-07 4.77757440e-07 8.49346560e-07 4.24673280e-08\n",
      " 3.82205952e-07 3.82205952e-07 3.82205952e-07 4.24673280e-08\n",
      " 3.82205952e-07 4.24673280e-08 1.52882381e-06 1.22305905e-06]\n"
     ]
    }
   ],
   "source": [
    "for i in range(P.shape[0]):\n",
    "    P[i] = GetProb(T,E,Obs,HiddenStates[i],apri)\n",
    "    \n",
    "print(P)\n"
   ]
  },
  {
   "cell_type": "code",
   "execution_count": 63,
   "metadata": {},
   "outputs": [
    {
     "data": {
      "text/plain": [
       "[<matplotlib.lines.Line2D at 0x7f7dcd6dd520>]"
      ]
     },
     "execution_count": 63,
     "metadata": {},
     "output_type": "execute_result"
    },
    {
     "data": {
      "image/png": "[encoded data removed]",
      "text/plain": [
       "<Figure size 432x288 with 1 Axes>"
      ]
     },
     "metadata": {
      "needs_background": "light"
     },
     "output_type": "display_data"
    }
   ],
   "source": [
    "plt.plot(P)"
   ]
  },
  {
   "cell_type": "code",
   "execution_count": 64,
   "metadata": {},
   "outputs": [
    {
     "name": "stdout",
     "output_type": "stream",
     "text": [
      "El estado oculto más probable es: [[1 0 0 0 0 0 0 0]], es decir:\n",
      "['Cara', 'Sello', 'Sello', 'Sello', 'Sello', 'Sello', 'Sello', 'Sello']\n",
      "Y su probabilidad es de : 0.00029491200000000015\n"
     ]
    }
   ],
   "source": [
    "ii = np.where( P == np.amax(P))\n",
    "print(f\"El estado oculto más probable es: {HiddenStates[ii]}, es decir:\")\n",
    "lista = []\n",
    "for i in HiddenStates[ii][0]:\n",
    "    lista.append(DictH[i])\n",
    "print(lista)\n",
    "print(f\"Y su probabilidad es de : {max(P)}\")"
   ]
  },
  {
   "cell_type": "code",
   "execution_count": 65,
   "metadata": {},
   "outputs": [
    {
     "data": {
      "text/plain": [
       "0.0008814916088064008"
      ]
     },
     "execution_count": 65,
     "metadata": {},
     "output_type": "execute_result"
    }
   ],
   "source": [
    "np.sum(P)"
   ]
  },
  {
   "cell_type": "code",
   "execution_count": 67,
   "metadata": {},
   "outputs": [
    {
     "name": "stdout",
     "output_type": "stream",
     "text": [
      "[(0, 0, 0, 0, 0, 0, 0, 0), (0, 0, 0, 0, 0, 0, 0, 1), (0, 0, 0, 0, 0, 0, 1, 1), (0, 0, 0, 0, 0, 1, 1, 1), (0, 0, 0, 0, 1, 1, 1, 1), (0, 0, 0, 1, 1, 1, 1, 1), (0, 0, 1, 1, 1, 1, 1, 1), (0, 1, 1, 1, 1, 1, 1, 1), (1, 1, 1, 1, 1, 1, 1, 1)]\n"
     ]
    }
   ],
   "source": []
  },
  {
   "cell_type": "code",
   "execution_count": 109,
   "metadata": {},
   "outputs": [
    {
     "name": "stdout",
     "output_type": "stream",
     "text": [
      "[(0, 0, 0, 0, 0, 0, 0, 0), (0, 0, 0, 0, 0, 0, 0, 1), (0, 0, 0, 0, 0, 0, 1, 1), (0, 0, 0, 0, 0, 1, 1, 1), (0, 0, 0, 0, 1, 1, 1, 1), (0, 0, 0, 1, 1, 1, 1, 1), (0, 0, 1, 1, 1, 1, 1, 1), (0, 1, 1, 1, 1, 1, 1, 1), (1, 1, 1, 1, 1, 1, 1, 1)]\n"
     ]
    }
   ],
   "source": [
    "ObsStates = GetStates([0,1],8)\n",
    "Nobs = ObsStates.shape[0]\n",
    "\n",
    "PObs = np.zeros(Nobs)\n",
    "\n",
    "for j in range(Nobs):\n",
    "    \n",
    "    dim = HiddenStates.shape[0]\n",
    "    P = np.zeros(dim)\n",
    "    \n",
    "    for i in range(dim):\n",
    "        P[i] = GetProb(T,E,ObsStates[j],HiddenStates[i],apri)\n",
    "        \n",
    "    PObs[j] = np.sum(P)"
   ]
  },
  {
   "cell_type": "code",
   "execution_count": 111,
   "metadata": {},
   "outputs": [
    {
     "name": "stdout",
     "output_type": "stream",
     "text": [
      "[[0 0 0 0 0 0 0 0]]\n"
     ]
    }
   ],
   "source": [
    "ii = np.where( PObs == np.amax(PObs))\n",
    "print(ObsStates[ii])"
   ]
  },
  {
   "cell_type": "code",
   "execution_count": 112,
   "metadata": {},
   "outputs": [
    {
     "data": {
      "text/plain": [
       "1.0000000000000007"
      ]
     },
     "execution_count": 112,
     "metadata": {},
     "output_type": "execute_result"
    }
   ],
   "source": [
    "\n",
    "np.sum(PObs)"
   ]
  },
  {
   "cell_type": "code",
   "execution_count": 81,
   "metadata": {},
   "outputs": [
    {
     "data": {
      "text/plain": [
       "'La probabilidad apriori es un parametro necesario para ecnontrar las probabilidades ocultas al ser un parametro de las funciones'"
      ]
     },
     "execution_count": 81,
     "metadata": {},
     "output_type": "execute_result"
    }
   ],
   "source": [
    "# e\n",
    "\n",
    "\"La probabilidad apriori es un parametro necesario para ecnontrar las probabilidades ocultas al ser un parametro de las funciones\""
   ]
  },
  {
   "cell_type": "code",
   "execution_count": null,
   "metadata": {},
   "outputs": [],
   "source": []
  }
 ],
 "metadata": {
  "kernelspec": {
   "display_name": "Python 3",
   "language": "python",
   "name": "python3"
  },
  "language_info": {
   "codemirror_mode": {
    "name": "ipython",
    "version": 3
   },
   "file_extension": ".py",
   "mimetype": "text/x-python",
   "name": "python",
   "nbconvert_exporter": "python",
   "pygments_lexer": "ipython3",
   "version": "3.8.5"
  }
 },
 "nbformat": 4,
 "nbformat_minor": 4
}
