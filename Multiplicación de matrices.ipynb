{
 "cells": [
  {
   "cell_type": "code",
   "execution_count": 1,
   "metadata": {},
   "outputs": [],
   "source": [
    "import numpy as np\n",
    "\n",
    "def multi(m,vp):\n",
    "    c1=len(m[0])\n",
    "    f2=len(vp)\n",
    "    if c1!=f2:\n",
    "        print(\"las matrices no se pueden multiplicar\")\n",
    "    else:\n",
    "        f1=len(m)\n",
    "        c2=len(vp[0])\n",
    "        r=np.zeros(shape=(f1,c2))\n",
    "\n",
    "        for i in range(f1):\n",
    "            for j in range(c2):\n",
    "                for k in range(c1):\n",
    "                    r[i][j]+=m[i][k]*vp[k][j]\n",
    "        return r"
   ]
  },
  {
   "cell_type": "code",
   "execution_count": 3,
   "metadata": {},
   "outputs": [
    {
     "data": {
      "text/plain": [
       "array([[ 39.],\n",
       "       [ 23.],\n",
       "       [ 12.],\n",
       "       [-42.],\n",
       "       [ 32.]])"
      ]
     },
     "execution_count": 3,
     "metadata": {},
     "output_type": "execute_result"
    }
   ],
   "source": [
    "a = np.array([[5,-4,-2],[5,-5,4],[2,5,-4],[-5,4,3],[3,-4,-3]])\n",
    "\n",
    "b = np.transpose(np.array([[5,-2,-3]]))\n",
    "\n",
    "multi(a,b)"
   ]
  },
  {
   "cell_type": "code",
   "execution_count": 5,
   "metadata": {},
   "outputs": [
    {
     "name": "stdout",
     "output_type": "stream",
     "text": [
      "las matrices no se pueden multiplicar\n"
     ]
    }
   ],
   "source": [
    "c = np.array([[0,-1,-1,3],[5,-5,-2,2],[1,0,4,5]])\n",
    "\n",
    "d = np.array([[0,-3],[-2,-1],[3,-3]])\n",
    "multi(c,d)"
   ]
  },
  {
   "cell_type": "code",
   "execution_count": 6,
   "metadata": {},
   "outputs": [
    {
     "data": {
      "text/plain": [
       "array([[ 12.,  27., -13.,  25., -37.],\n",
       "       [  2.,  51., -39., -46., -23.],\n",
       "       [ 27.,  -1., -19.,  16., -20.],\n",
       "       [ 13.,  25., -91.,  -1., -56.]])"
      ]
     },
     "execution_count": 6,
     "metadata": {},
     "output_type": "execute_result"
    }
   ],
   "source": [
    "e = np.array([[2,-5,5,1],[5,2,-7,-6],[-6,-1,7,-4],[5,4,1,-5]])\n",
    "f = np.array([[0,4,-7, 1, -6],[-1,-6,-5,1,1],[2, -1, -6, 5, -5],[-3,-6,6,3,5]])\n",
    "multi(e,f)"
   ]
  },
  {
   "cell_type": "code",
   "execution_count": 11,
   "metadata": {},
   "outputs": [
    {
     "data": {
      "text/plain": [
       "array([[30., 53., 17.],\n",
       "       [34., 47., 43.],\n",
       "       [18., 41., -7.]])"
      ]
     },
     "execution_count": 11,
     "metadata": {},
     "output_type": "execute_result"
    }
   ],
   "source": [
    "#La multiplicacion matricial no es conmutativa\n",
    "g = np.array([[0,-3,4],[-2,-1,6],[3,-3,1]])\n",
    "h = np.array([[2,4,0],[-2,-7,5],[6,8,8]])\n",
    "\n",
    "multi(g,h)\n"
   ]
  },
  {
   "cell_type": "code",
   "execution_count": 12,
   "metadata": {},
   "outputs": [
    {
     "data": {
      "text/plain": [
       "array([[ -8., -10.,  32.],\n",
       "       [ 29.,  -2., -45.],\n",
       "       [  8., -50.,  80.]])"
      ]
     },
     "execution_count": 12,
     "metadata": {},
     "output_type": "execute_result"
    }
   ],
   "source": [
    "multi(h,g)"
   ]
  },
  {
   "cell_type": "code",
   "execution_count": null,
   "metadata": {},
   "outputs": [],
   "source": []
  }
 ],
 "metadata": {
  "kernelspec": {
   "display_name": "Python 3",
   "language": "python",
   "name": "python3"
  },
  "language_info": {
   "codemirror_mode": {
    "name": "ipython",
    "version": 3
   },
   "file_extension": ".py",
   "mimetype": "text/x-python",
   "name": "python",
   "nbconvert_exporter": "python",
   "pygments_lexer": "ipython3",
   "version": "3.8.5"
  }
 },
 "nbformat": 4,
 "nbformat_minor": 4
}
