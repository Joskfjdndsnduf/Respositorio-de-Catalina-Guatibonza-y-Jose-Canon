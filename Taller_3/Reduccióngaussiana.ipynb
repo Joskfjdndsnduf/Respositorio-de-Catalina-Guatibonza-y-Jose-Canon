{
 "cells": [
  {
   "cell_type": "code",
   "execution_count": 13,
   "metadata": {},
   "outputs": [],
   "source": [
    "import numpy as np\n",
    "\n",
    "\n",
    "A= np.array([[3,1,-1],[1,-2,1],[4,-1,1]])\n",
    "b= np.array([[2,0,3]])\n",
    "\n",
    "np.shape(A)[0]\n",
    "n = np.shape(A)[0]\n",
    "M = np.zeros(shape=(n,n+1))\n",
    "M[:,0:n] = A\n",
    "M[:,n] = b"
   ]
  },
  {
   "cell_type": "code",
   "execution_count": 14,
   "metadata": {},
   "outputs": [],
   "source": [
    "# Obtén el número de filas y columnas de la matriz A\n",
    "\n",
    "\n",
    "fil=len(M)\n",
    "col=len(M[0])\n",
    "\n",
    "# Inicializa la matriz triangular superior S con ceros\n",
    "Sol=np.zeros(shape=(fil,col))\n",
    "\n",
    "\n",
    "# Copia la matriz A a S\n",
    "Sol[:] = M\n",
    "\n",
    "# Realiza la eliminación gaussiana\n",
    "for j in range(fil):\n",
    "    for i in range(j + 1,fil):\n",
    "        valor = Sol[i, j] / Sol[j, j]\n",
    "        Sol[i, j:] -= valor * Sol[j, j:]\n",
    "        \n",
    "solu= Sol\n",
    "#esto nos dio una matriz de n columnas donde la ultima corresponde a el resultado\n",
    "#de cada ecuacion entonces toca separarlas\n",
    "\n",
    "coeficientes= solu[:, :-1]\n",
    "resultados= solu[:, -1]\n",
    "\n",
    "\n",
    "\n",
    "def back_substitution(A, b):\n",
    "    '''\n",
    "    Args:\n",
    "        A (np.array): Matriz de coeficientes triangular superior\n",
    "        b (np.arra): vector de constantes\n",
    "        \n",
    "    '''\n",
    "\n",
    "    n = np.shape(A)[0]\n",
    "\n",
    "    x = np.zeros(n)\n",
    "\n",
    "    for i in range(n-1,-1,-1):\n",
    "        sum = b[i]\n",
    "        for j in range(n-1,i,-1):\n",
    "            sum -= A[i,j]*x[j]\n",
    "        x[i] = sum/A[i,i]\n",
    "\n",
    "    return x"
   ]
  },
  {
   "cell_type": "code",
   "execution_count": 15,
   "metadata": {},
   "outputs": [
    {
     "data": {
      "text/plain": [
       "array([0.71428571, 0.85714286, 1.        ])"
      ]
     },
     "execution_count": 15,
     "metadata": {},
     "output_type": "execute_result"
    }
   ],
   "source": [
    "back_substitution(coeficientes,resultados)"
   ]
  },
  {
   "cell_type": "code",
   "execution_count": 16,
   "metadata": {},
   "outputs": [],
   "source": [
    "A= np.array([[1,1,1],[0,-8,10],[4,-8,0]])\n",
    "b= np.array([[0,0,6]])\n",
    "\n",
    "\n",
    "np.shape(A)[0]\n",
    "n = np.shape(A)[0]\n",
    "M = np.zeros(shape=(n,n+1))\n",
    "M[:,0:n] = A\n",
    "M[:,n] = b"
   ]
  },
  {
   "cell_type": "code",
   "execution_count": 17,
   "metadata": {},
   "outputs": [],
   "source": [
    "# Obtén el número de filas y columnas de la matriz A\n",
    "\n",
    "\n",
    "fil=len(M)\n",
    "col=len(M[0])\n",
    "\n",
    "# Inicializa la matriz triangular superior S con ceros\n",
    "Sol=np.zeros(shape=(fil,col))\n",
    "\n",
    "\n",
    "# Copia la matriz A a S\n",
    "Sol[:] = M\n",
    "\n",
    "# Realiza la eliminación gaussiana\n",
    "for j in range(fil):\n",
    "    for i in range(j + 1,fil):\n",
    "        valor = Sol[i, j] / Sol[j, j]\n",
    "        Sol[i, j:] -= valor * Sol[j, j:]\n",
    "        \n",
    "solu= Sol\n",
    "#esto nos dio una matriz de n columnas donde la ultima corresponde a el resultado\n",
    "#de cada ecuacion entonces toca separarlas\n",
    "\n",
    "coeficientes= solu[:, :-1]\n",
    "resultados= solu[:, -1]\n",
    "\n",
    "\n",
    "\n",
    "def back_substitution(A, b):\n",
    "    '''\n",
    "    Args:\n",
    "        A (np.array): Matriz de coeficientes triangular superior\n",
    "        b (np.arra): vector de constantes\n",
    "        \n",
    "    '''\n",
    "\n",
    "    n = np.shape(A)[0]\n",
    "\n",
    "    x = np.zeros(n)\n",
    "\n",
    "    for i in range(n-1,-1,-1):\n",
    "        sum = b[i]\n",
    "        for j in range(n-1,i,-1):\n",
    "            sum -= A[i,j]*x[j]\n",
    "        x[i] = sum/A[i,i]\n",
    "\n",
    "    return x"
   ]
  },
  {
   "cell_type": "code",
   "execution_count": 18,
   "metadata": {},
   "outputs": [
    {
     "data": {
      "text/plain": [
       "array([ 0.71052632, -0.39473684, -0.31578947])"
      ]
     },
     "execution_count": 18,
     "metadata": {},
     "output_type": "execute_result"
    }
   ],
   "source": [
    "back_substitution(coeficientes,resultados)"
   ]
  },
  {
   "cell_type": "code",
   "execution_count": null,
   "metadata": {},
   "outputs": [],
   "source": []
  }
 ],
 "metadata": {
  "kernelspec": {
   "display_name": "Python 3",
   "language": "python",
   "name": "python3"
  },
  "language_info": {
   "codemirror_mode": {
    "name": "ipython",
    "version": 3
   },
   "file_extension": ".py",
   "mimetype": "text/x-python",
   "name": "python",
   "nbconvert_exporter": "python",
   "pygments_lexer": "ipython3",
   "version": "3.8.5"
  }
 },
 "nbformat": 4,
 "nbformat_minor": 4
}
