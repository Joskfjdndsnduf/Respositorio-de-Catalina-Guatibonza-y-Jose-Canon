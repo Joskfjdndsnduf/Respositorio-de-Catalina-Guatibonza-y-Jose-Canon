{
 "cells": [
  {
   "cell_type": "code",
   "execution_count": 21,
   "metadata": {},
   "outputs": [],
   "source": [
    "import numpy as np\n",
    "import math as ma\n",
    "import sympy as sym\n",
    "import matplotlib.pyplot as plt\n",
    "import os.path as path\n"
   ]
  },
  {
   "cell_type": "code",
   "execution_count": 35,
   "metadata": {},
   "outputs": [
    {
     "name": "stdout",
     "output_type": "stream",
     "text": [
      "Archivo descargado\n"
     ]
    }
   ],
   "source": [
    "\"Usando el codigo proporcionado en clase importamos y descargamos los datos\"\n",
    "\n",
    "if not path.exists('Data'):\n",
    "    os.mkdir('Data')\n",
    "    https://raw.githubusercontent.com/asegura4488/Database/main/MetodosComputacionalesReforma/Parabolico.csv\n",
    "file = 'Parabolico.csv'\n",
    "url = 'https://raw.githubusercontent.com/asegura4488/Database/main/MetodosComputacionalesReforma/Parabolico.csv'\n",
    "\n",
    "if not path.exists(file):\n",
    "    Path_ = wget.download(url,file)\n",
    "    print('Archivo descargado')\n",
    "else:\n",
    "    print('---Archivo encontrado---')\n",
    "    Path_ = file"
   ]
  },
  {
   "cell_type": "code",
   "execution_count": 39,
   "metadata": {},
   "outputs": [
    {
     "data": {
      "text/html": [
       "<div>\n",
       "<style scoped>\n",
       "    .dataframe tbody tr th:only-of-type {\n",
       "        vertical-align: middle;\n",
       "    }\n",
       "\n",
       "    .dataframe tbody tr th {\n",
       "        vertical-align: top;\n",
       "    }\n",
       "\n",
       "    .dataframe thead th {\n",
       "        text-align: right;\n",
       "    }\n",
       "</style>\n",
       "<table border=\"1\" class=\"dataframe\">\n",
       "  <thead>\n",
       "    <tr style=\"text-align: right;\">\n",
       "      <th></th>\n",
       "      <th>X</th>\n",
       "      <th>Y</th>\n",
       "    </tr>\n",
       "  </thead>\n",
       "  <tbody>\n",
       "    <tr>\n",
       "      <th>0</th>\n",
       "      <td>1.4</td>\n",
       "      <td>0.400795</td>\n",
       "    </tr>\n",
       "    <tr>\n",
       "      <th>1</th>\n",
       "      <td>3.5</td>\n",
       "      <td>0.594128</td>\n",
       "    </tr>\n",
       "    <tr>\n",
       "      <th>2</th>\n",
       "      <td>5.6</td>\n",
       "      <td>0.298028</td>\n",
       "    </tr>\n",
       "  </tbody>\n",
       "</table>\n",
       "</div>"
      ],
      "text/plain": [
       "     X         Y\n",
       "0  1.4  0.400795\n",
       "1  3.5  0.594128\n",
       "2  5.6  0.298028"
      ]
     },
     "execution_count": 39,
     "metadata": {},
     "output_type": "execute_result"
    }
   ],
   "source": [
    "Datos = pd.read_csv(Path_,sep=',')\n",
    "Datos"
   ]
  },
  {
   "cell_type": "code",
   "execution_count": 40,
   "metadata": {},
   "outputs": [],
   "source": [
    "X = np.array(Datos.X)\n",
    "Y = np.array(Datos.Y)"
   ]
  },
  {
   "cell_type": "code",
   "execution_count": 72,
   "metadata": {},
   "outputs": [
    {
     "data": {
      "text/plain": [
       "Text(0.5, 1.0, 'Datos de la parabola')"
      ]
     },
     "execution_count": 72,
     "metadata": {},
     "output_type": "execute_result"
    },
    {
     "data": {
      "image/png": "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",
      "text/plain": [
       "<Figure size 432x288 with 1 Axes>"
      ]
     },
     "metadata": {
      "needs_background": "light"
     },
     "output_type": "display_data"
    }
   ],
   "source": [
    "plt.plot(X,Y,color='k')\n",
    "plt.scatter(X,Y,color='r',marker='o')\n",
    "plt.title(\"Datos de la parabola\")"
   ]
  },
  {
   "cell_type": "code",
   "execution_count": 73,
   "metadata": {},
   "outputs": [],
   "source": [
    "\"Observamos que se necesita una interpolacion entonces usamos el código de la clase\"\n",
    "\n",
    "def Lagrange(x,X,i):\n",
    "    \n",
    "    L = 1\n",
    "    \n",
    "    for j in range(X.shape[0]):\n",
    "        if i != j:\n",
    "            L *= (x - X[j])/(X[i]-X[j])\n",
    "            \n",
    "    return L\n",
    "\n",
    "\n",
    "\n",
    "def Interpolar(x,X,Y):\n",
    "    \n",
    "    Poly = 0\n",
    "    \n",
    "    for i in range(X.shape[0]):\n",
    "        Poly += Lagrange(x,X,i)*Y[i]\n",
    "        \n",
    "    return Poly\n",
    "\n",
    "\n",
    "x = np.linspace(1,6,150)\n",
    "y = Interpolar(x,X,Y)"
   ]
  },
  {
   "cell_type": "code",
   "execution_count": 75,
   "metadata": {},
   "outputs": [
    {
     "data": {
      "text/plain": [
       "Text(0.5, 1.0, 'Interpolación por Método Lagranje')"
      ]
     },
     "execution_count": 75,
     "metadata": {},
     "output_type": "execute_result"
    },
    {
     "data": {
      "image/png": "iVBORw0KGgoAAAANSUhEUgAAAXQAAAEICAYAAABPgw/pAAAAOXRFWHRTb2Z0d2FyZQBNYXRwbG90bGliIHZlcnNpb24zLjMuMiwgaHR0cHM6Ly9tYXRwbG90bGliLm9yZy8vihELAAAACXBIWXMAAAsTAAALEwEAmpwYAAAv6klEQVR4nO3deZyNdf/H8ddnDMaaWwxZR3e5bZWYyK2yZC1FkTREpmw3Y7qRlAljC8VYBmFCMi0SRXd3KkIkjKKfsk2TZVLZsg3GMt/fH+fSfZpmmGHOfOec83k+Hucxc67rOtf1Psu8zzXXuc51iTEGpZRS3i/AdgCllFI5QwtdKaV8hBa6Ukr5CC10pZTyEVroSinlI7TQlVLKR2ihqywRkdUi8sx1zqOziHyawfBbRWSbiFS+nvnnJSLSUEQ2i0jJHJznfBEZnVPzy2tE5F4R2WU7hzfTQrdIRPaKSLMsTnvdhWqbMSbeGNPCfZiI3ADMAToYY/bZSXZlIjJCRIyI9E83/Fln+Ih0wysCY4EHjTHH3IZn+fnOSSIS4uQMzO1lZ4cx5ktjzD9s5/BmWuh+QkTy2c6QEWPMCWNMY2PMHttZAK5QeruBbumGdXWG/4kx5oAxppEx5lBO58vL8vobhj/QQs8jROQpEVknIq+KyO8i8pOItHbGjQHuBWJF5LSIxDrDq4nIZyJyTER2iUhHt/nNF5GZIvKxiKQATZxhrzm3OSUia9w3c4jIP53NBCecn//MJOvfRWSViBwVkSMiEi8iJdzGVxSRJSJy2Jnmct6nRGRdVpbn/EcySkTWO1k/FZFSmeRpLCLJIvKik2eviHR2G3+DiCxw8uwTkSgRCXDLtF5EYkTkGDAik6doM1BYRGo6t6sJFHKGu2dpIyJbReS4iHwlIrc7w98EKgHLnedwsDP8YRH53pl+tYhUd5vXnSLyjXP/3wWC0i2rh4gkOs//MhEpl0n2TIlIPRHZ4Cz/FxGJFZECbuNbOK+tEyIyw3nNPJPZY5eF18ZeERkkIt8583xXRIKccY1FJNlt2nIi8r7zvP0k6f5DUhkwxujF0gXYCzRzfn8KuAD0APIBfYCDgDjjVwPPuN22CHAA6A4EAnWAI0BNZ/x84ATQENcbd5Az7BRwH1AQmAKsc6YvCfwOPOnM7wnn+o3plw/cAjR35lEaWAtMdsblA7YBMU7GIOAet/uYneX9CFTFVZyrgXGZPI6NgYvAJCdTIyAF+IczfgHwIVAMCMG1Vv20W6aLQISTo1AG8x8BLAReBMY7wyYALzjDRzjD6gCHgPrO49DNeY4Lpn++netVnZzNgfzAYCARKOBc9gH/dsZ1wPX6GO3ctqnzfNdx7vM0YG0mj08IYIDADMbVBe527nsIsAN41hlXCjgJPOqMj3QyPJPZY8cVXhtuj8EmoJzzGtgB9HZ7HpOd3wOALcAw57G4GUgCWtr+u83LF+sB/PnCXws90W1cYeePsKxzfTV/LvTHgS/TzW8WMNz5fT6wIN34+cA7bteLApeAiriKdVO66TcAT2W0/HTTtQO+dX5vABzOpDye4n+FnpXlRbmN+xfwSSbLb+wUSxG3YYuAl3AVaypQw21cL2C1W6b9V3meRuAq7krAflwFu9953NwLfSYwKt1tdwGN0j/fzvWXgEVu1wOAn537cx9ub+jO+K/4X6G/DkxI91xeAEIyyB9CJoWewbTPAkud37sCG9zGCa6VCPdCv9pj98drw+0x6OJ2fQLwmtvzeLnQ66efN6430Hme/Jv09otu88pbfr38izHmjIiA6w81I5WB+iJy3G1YIPCm2/UDGdzuj2HGmNPOv8rlnEv6DyX3AeXTz0BEgoGpuDYDFcNVRL87oysC+4wxFzPJfVlWlver2+9nyPyxAPjdGJOSbl7lcK1lXl7bzWw5GT1Of2GM2S8iibg+8NxjjDngPEeXVQa6iUiE27ACTo6M/OkxMMakicgBJ9sl4GfjNJlbbvfbfuN229MictS57d6s3B8AEamK6z+bUFwrEYG41owvL8P99WLcN4k4/vTYXeW1cVn65zWjx6cyUC7d6zsf8OVV75Qf023o3iP9YTEPAGuMMSXcLkWNMX2ucBtwFS4AIlIU17+9B51L+t0GK+FaY0zvZWfetxtjigNdcK29Xc5VSa7+AVl2lpcVfxORIunmdRDXZokL6ZaVfjnZOeToAmCg8zO9A8CYdM9JYWPM25ks50+PgbjeHSo62X4Bysuf3zEqXeG2RYAbyf7jNxPYCdzqPJcv8r/n8hegQrp8FdLdPv19utJrIzsOAD+leyyLGWMeuIZ5+Q0tdO/xG67tiJd9BFQVkSdFJL9zucv9Q7VMPCAi9zgffI0CNhpjDgAfO/MLE5FAEXkcqOEsJ71iwGnguIiUB55zG7cJVxGME5EiIhIkIg0zmEd2lpdV0SJSQETuBdoA7xljLuHa/DJGRIqJ60PgAbg2lVyLd4EWzjzTmwP0FpH64lJERB4UkWLO+PTP4SLgQRG5X0Ty43qjSMW1aWUDrs1I/Z3H51Ggnttt3wK6i0htESmI67+GjcaYvVfIXtB5Pi5fAnA9lyeB0yJSDddnN5f9B7hNRNo5b9B9gbJXeXyu9NrIjk3ASRF5XkQKiUg+EaklIndd4/z8gha695gCdBDXHjBTjTGncBVLJ1xra78C43F9GHUlbwHDgWO4PhDrDGCMOYqrBAcCR3F9QNfGGHMkg3lE4/ow7gSuP/oll0c4BfoQrg/H9gPJuLb3/0k2l5cVv+L61/4gEI/rg7adzrgIXB8+JgHrnMdg7rUsxBhz1hjzuTHmbAbjEnB9qB3rZEnEtZ35speBKGePkkHGmF241mCn4fpP4iHgIWPMeWPMeVwfRj7lzOtx/vw4r8S1Df59XG+gf8f1WriS08BZt0tTYBAQhuvD8jm43rAuL+MI8Biu7dxHcb3hJuB608lMpq+N7HB7HdUGfsL1+MQBN1zL/PzF5T0olB8Qkfm4PnSKsp0lJ4lIY2ChMSb95gCVg5w1+mSgszHmCw/MvykQZ4y5+aoTqwzpGrpSKlMi0lJESjibdS5vX//aQ4urhWttXF0j3ctFKXUlDXBtoioA/AC0y2hz0/USkSnAw/z127gqG3STi1JK+Qjd5KKUUj7C2iaXUqVKmZCQEFuLV0opr7Rly5YjxpjSGY2zVughISEkJCTYWrxSSnklEcn0MNO6yUUppXyEFrpSSvkILXSllPIRWuhKKeUjslToItLKOWtJoogMyWSaxuI6U8v3IrImZ2MqpZS6mqvu5SKuc1FOx3UWkmRgs4gsM8b84DZNCWAG0Mo5ZnSwh/IqpZTKRFbW0OvhOpNOknMEuHeAtummCQOWGGP2Axg/OzmuUkrlBVnZD708fz4rSTKu00O5qwrkF5HVuI6HPMUY85cTAIhIT6AnQKVKldKPVipbjDEcPXqUQ4cO/XE5duwYqampf1wuXbpEwYIFCQoKolChQhQuXJjSpUtTpkwZypQpQ3BwMPnz5//fTOPjYehQ2L8fKlWCMWOgc+fMQyiVh2Sl0DM620j6A8AE4jq29v24ThS7QUS+Nsbs/tONjJkNzAYIDQ3Vg8ioLElLSyMxMZGEhAS2b9/Onj17/ricOXPmuuYtIoSEhFC1alWqGsM/vviCOy9c4E6g0L590LOna0ItdeUFslLoybidtgzXKagOZjDNEeecjikisha4A9fZ1ZXKlnPnzvHVV1+xcuVKNmzYwJYtWzh58iQAgYGBVKlShapVq9KkSRNCQkL+WNMODg6mZMmSBAUFUbBgQQoWLEi+fPk4f/48586d4+zZs6SkpHDo0CF+/fVXfvvtNw4ePEhiYiK7d+9m/TffcNo5WF0+4Dag3pkzNHr2We5v1owyZcrYe1CUyoKrHm3ROfXUblxr3z8Dm4EwY8z3btNUx3WWlpa4DrO5CehkjNme2XxDQ0ONfvVfXZaUlMSSJUtYsWIF69at49y5c+TLl4/atWtz1113ERoayl133UX16tX/vIkkBxkRfsZ1huTNuF7Em4Hjzvjbb7+dZs2a0aZNG+69914CA/Xo0yr3icgWY0xohuOycvhcEXkAmIxrxWWuMWaMiPQGMMa85kzzHNAdSMN11pHJV5qnFrrasWMHixcv5v3332fbtm0A1KxZk2bNmnH//ffTqFEjihcvnnuBQkJg358Pk3EJ+LZsWT6PjOTzzz9n3bp1pKamUrp0adq1a0f79u1p2rSpx95klErvSoWOMcbKpW7dukb5n+PHj5vXXnvN1K9f3wBGREzDhg3NxIkTzU8//WQ33MKFxhQubAz871K4sGu44/Tp02bx4sWmU6dOpmjRogYwZcqUMc8995zZsWOHxfDKXwAJJpNe1UJXuWLz5s3mySefNEFBQQYwtWrVMpMmTTIHDx60He3PFi40pnJlY0RcP93KPL2zZ8+apUuXmnbt2pnAwEADmH/+85/mjTfeMKmpqbkWWfmXKxW6tTMW6SYX33fx4kU+/PBDYmJiWL9+PcWKFaNLly6Eh4dTt25dRDLagco7/fbbb7z55pu8/vrr7Ny5k7Jly9KvXz969epFqVKlbMdTPkQ3uahclZqaambNmmVCQkIMYKpUqWImT55sTpw4YTuax6WlpZkVK1aYli1bGsAEBQWZf/3rX+bAgQO2oykfwRXW0PXgXCrHnD9/ntmzZ3PrrbfSq1cvgoODWbJkCXv27CEyMjJ3P+C0RERo0aIFn3zyCdu3b6dz587MmTOHv//97/Tr14+ff/7ZdkTlw7TQ1XVLS0vjzTff/KPIy5UrxyeffMLXX3/NI488Qr58+WxHtKJmzZrExcWxZ88eunXrxqxZs7j55puJjIzk6NGjtuMpH6SFrq7LmjVrqFevHl27diU4OJgVK1bw1Vdf0bJlS5/aRn49KleuzOzZs9mzZw9PPvkksbGx3HLLLUyaNInU1FTb8ZQP0UJX1yQpKYl27drRuHFjDh06xMKFC9m4cSMtWrTQIs9ESEgIcXFxbNu2jbvvvpuBAwdSo0YNlixZ4trlTKnrpIWusiU1NZUxY8ZQs2ZNVq5cydixY9m1axedO3cmIEBfTllRq1Yt/vvf//LJJ59QqFAh2rdvT5s2bdi7d6/taMrL6V+gyrLVq1dTu3ZtoqKieOihh9i5cycvvPAChQoVsh3NK7Vs2ZKtW7cyadIk1qxZQ40aNRg/fjwXLlywHU15KS10dVUnT56kR48eNGnShNTUVD7++GMWLVpE+fLlbUfzeoGBgfz73/9mx44dtGzZkiFDhlC3bl2++eYb29GUF9JCV1e0atUqbrvtNubOnctzzz3H9u3bad26te1YPqdixYosXbqUDz74gCNHjlC/fn1Gjhypa+sqW7TQVYZSUlLo168f999/P0FBQaxbt44JEyZQuHBh29F8Wtu2bdm+fTsdO3Zk+PDhNGjQgB9++OHqN1QKLXSVgW3bthEaGsqMGTN49tln+fbbb2nQoIHtWH6jZMmSxMfHs3jxYvbt20edOnWYMWOG7gmjrkoLXf3BGMOMGTOoX78+J06c4PPPPycmJkbXyi1p374933//PU2bNqVv37489thjHD9+3HYslYdpoSsAfv/9dzp06EDfvn1p2rQpW7dupWnTprZj+b3g4GA++ugjXnnlFT788ENq167N119/bTuWyqO00BXfffcdoaGhLFu2jFdffZWPPvqI4OBg27GUIyAggEGDBrFu3TpEhHvvvZdp06bpJhj1F1rofu7tt9+mQYMGnDt3jrVr1zJw4ED9glAeVb9+fb799ltat25N//79eeqppzh79qztWCoP0b9cP3Xx4kUGDBhAWFgYderUYcuWLfrBpxcoUaIEH3zwASNGjGDBggXcc8897N+/33YslUdoofuh48eP06pVK2JiYujXrx8rV66kbNmytmOpLAoICGD48OF8+OGHJCYmUrduXb788kvbsVQeoIXuZ5KSkmjQoAFr165l7ty5TJs2jQIFCtiOpa7Bww8/zKZNmyhZsiTNmjUjPj7ediRlmRa6H/nqq6+4++67+e233/jss8/o3r277UjqOv3jH/9gw4YNNGjQgC5duhAdHa0flvoxLXQ/8e6779K0aVNuuOEGvv76axo1amQ7ksohJUuW5NNPP6Vr166MGDGCrl276nHW/ZQWuh+YOnUqnTp1ol69enz99ddUrVrVdiSVwwoUKMD8+fMZPXo0CxcupE2bNpw6dcp2LJXLtNB9mDGGqKgoIiMjeeSRR/j000+58cYbbcdSHiIiDB06lDfeeIMvvviCpk2bcvjwYduxVC7SQvdRFy9epGfPnowZM4YePXrw3nvvERQUZDuWygVdu3blgw8+YPv27dxzzz3s27fPdiSVS7TQfVBqaiodO3YkLi6OqKgoZs2a5bcnavZXbdq04bPPPuPQoUM0bNhQj9joJ7TQfcy5c+d49NFHWbp0KZMnT2bUqFF6jk8/dc8997B27VrS0tJo3Lgx3333ne1IysO00H3ImTNneOihh/jvf//LrFmziIyMtB1JWXbbbbexZs0aChYsSJMmTfRMSD5OC91HnDp1itatW7Nq1SrmzZtHz549bUdSecStt97K2rVrKVasGE2bNmXjxo22IykP0UL3AadOnaJVq1asX7+e+Ph4unXrZjuSymOqVKnC2rVrKVWqFM2bN2f9+vW2IykP0EL3cikpKbRp04aNGzfy7rvv0qlTJ9uRVB5VqVIl1qxZw0033UTr1q3ZtGmT7Ugqh2mhe7GzZ8/Stm1b1q1bR3x8PO3bt7cdSeVx5cuXZ9WqVZQuXZqWLVuydetW25FUDtJC91Kpqak8+uijrFq1ivnz5/P444/bjqS8xOVSL168OM2aNWP79u22I6kcooXuhS5cuEDHjh355JNPmDNnDk8++aTtSMrLVK5cmZUrV1KwYEGaNWvGrl27bEdSOUAL3cukpaXx9NNPs2zZMmJjY3n66adtR1Je6pZbbmHlypUYY2jevDkHDhywHUldJy10L2KMYdCgQbz55puMHDmSvn372o6kvFy1atVYsWIFJ06coGXLlhw9etR2JHUdtNC9yLhx44iJiSEiIoKoqCjbcZSPqF27NsuWLSMpKYkHH3yQlJQU25HUNdJC9xJz5szhxRdfJCwsjMmTJ+vX+VWOatSoEe+88w6bN2+mffv2nD9/3nYkdQ200L3A8uXL6d27N61bt2b+/PkEBOjTpnJeu3btmDNnDitWrCA8PFzPfOSFstQMItJKRHaJSKKIDMlgfGMROSEiW53LsJyP6p8SEhLo1KkTderU4b333iN//vy2IykfFh4eztixY4mPj+ell16yHUdlU+DVJhCRfMB0oDmQDGwWkWXGmPTH4/zSGNPGAxn91k8//cSDDz5IcHAwy5cvp0iRIrYjKT8wZMgQfvrpJ8aMGUOVKlV0TyovctVCB+oBicaYJAAReQdoC+gBlj3o999/54EHHuD8+fOsXr2asmXL2o6k/ISIMH36dPbv30+vXr2oWLEiLVq0sB1LZUFWNrmUB9x3UE12hqXXQES2ich/RaRmRjMSkZ4ikiAiCXpqrMylpqbyyCOPkJSUxIcffkj16tVtR1J+Jn/+/Lz33nvUqlWLDh066LHUvURWCj2j3SnSf1ryDVDZGHMHMA34IKMZGWNmG2NCjTGhpUuXzlZQf2GMoU+fPqxZs4Z58+Zx33332Y6k/FSxYsX46KOPKF68OA8++CC//vqr7UjqKrJS6MlARbfrFYCD7hMYY04aY047v38M5BeRUjmW0o/ExMQwb948hg0bRlhYmO04ys9VqFCB5cuXc+zYMR599FFSU1NtR1JXkJVC3wzcKiJVRKQA0AlY5j6BiJQVZ8doEannzFe/cpZNH3/8Mc899xzt27dn+PDhtuMoBcCdd97JG2+8wYYNG+jZs6fuzpiHXbXQjTEXgX7ACmAHsMgY872I9BaR3s5kHYDtIrINmAp0MvqsZ8sPP/zAE088we23384bb7yh+5qrPKVDhw5ER0ezYMECJk6caDuOyoTY6t3Q0FCTkJBgZdl5zdGjR6lXrx4pKSls2rSJSpUq2Y6k1F8YY3j88cdZvHgxy5cv58EHH7QdyS+JyBZjTGhG43Q10LJLly4RFhZGcnIyS5cu1TJXeZaIMH/+fO68806eeOIJPeRuHqSFbtlLL73Ep59+SmxsLA0aNLAdR6krKly4MEuXLqVgwYI8+uijnDp1ynYk5UYL3aIlS5bw8ssv88wzz9CjRw/bcZTKkkqVKvHOO++wc+dOPeZLHqOFbsmOHTvo1q0b9erVIzY21nYcpbLl/vvvZ9y4cSxevFg/JM1DtNAtOHnyJI888giFChXi/fffp2DBgrYjKZVtgwYNokOHDjz//POsWrXKdhyFFnquM8bQs2dPEhMTWbRoERUqVLAdSalrIiLMnTuXatWq8fjjj/Pzzz/bjuT3tNBz2axZs3j33XcZNWoUjRs3th1HqetSrFgx3n//fc6ePUtYWBgXL160HcmvaaHnoq1bt/Lss8/SsmVLnn/+edtxlMoR1apVY+bMmaxdu5bo6GjbcfyaFnouOXXqFB07duTGG2/kzTff1G+CKp/y5JNP0r17d8aMGcPnn39uO47f0lbJBcYYevXqxY8//sjbb7+NHmlS+aJp06ZRvXp1unTpokdmtEQLPRfExcXx9ttvM3LkSD0crvJZRYoUYdGiRZw8eZLOnTtz6dIl25H8jha6h3333Xf079+f5s2b88ILL9iOo5RH1axZk9jYWFatWsWYMWNsx/E7WugedPr0aTp27EiJEiV0u7nyG927d6dLly5ER0ezevVq23H8ijaMB/Xv3589e/bw1ltvUaZMGdtxlMoVIsLMmTO55ZZbCAsL48iRI7Yj+Q0tdA9ZsmQJ8+bNY8iQITRp0sR2HKVyVdGiRVm0aBFHjx6lV69eeryXXKKF7gG//PILPXv2pG7dunrmIeW37rjjDkaPHs2SJUuYP3++7Th+QQs9hxlj6N69O2fOnGHhwoUUKFDAdiSlrBkwYACNGjWif//+JCUl2Y7j87TQc9j06dNZsWIFr776KtWqVbMdRymr8uXL98cpFbt27aq7MnqYFnoO2rFjB8899xytW7emT58+tuMolSdUrlyZ6dOns379esaPH287jk/TQs8h58+fp3PnzhQtWpS5c+ciIrYjKZVndO7cmY4dOzJ8+HC2bNliO47P0kLPISNGjODbb79lzpw5lC1b1nYcpfKUy7sylilThi5dunDmzBnbkXySFnoO+PLLLxk3bhxPP/007dq1sx1HqTypZMmSzJ8/n507d+rRRj1EC/06nTlzhu7du1OlShViYmJsx1EqT2vWrBmRkZHExsbqURk9QAv9Og0dOpQff/yR119/nWLFitmOo1Se9/LLL1O1alWeeeYZTp8+bTuOT9FCvw7r169nypQp/Otf/9KzDymVRYUKFWLu3Lns37+fIUOG2I7jU7TQr9HZs2cJDw+nUqVKuiuWUtnUsGFDIiIimD59OmvXrrUdx2dooV+j4cOHs3v3buLi4ihatKjtOEp5nbFjx3LzzTcTHh6ue73kEC30a7Bx40YmTpxIjx49aNasme04SnmlIkWKEBcXx48//khUVJTtOD5BCz2bUlNTCQ8Pp1y5crzyyiu24yjl1Zo0aULv3r2ZPHkyGzZssB3H62mhZ9PIkSP54YcfmDNnDjfccIPtOEp5vQkTJlCxYkXCw8M5d+6c7TheTQs9G7Zs2cL48eN56qmnaNWqle04SvmEYsWKMXv2bHbu3El0dLTtOF5NCz2LLl68yNNPP01wcDCTJk2yHUcpn9KyZUvCw8OZMGGCHuvlOmihZ9GUKVPYtm0bsbGx/O1vf7MdRymfM3HiRIKDg+nZsycXL160HccraaFnwb59+xg2bBgPPfQQjzzyiO04SvmkEiVKMGXKFL755humT59uO45X0kK/CmMM/fr1A2DatGl6WFylPOixxx6jVatWREVFkZycbDuO19FCv4qlS5fy0UcfMXLkSCpXrmw7jlI+TUSYPn06Fy9epH///rbjeB0t9Cs4efIkERER3HHHHURGRtqOo5RfuPnmmxk+fDhLly5l+fLltuN4FS30K4iKiuKXX35h9uzZBAYG2o6jlN8YOHAgNWvWpF+/fqSkpNiO4zW00DOxefNmYmNj6du3L/Xq1bMdRym/kj9/fmbNmsX+/fsZMWKE7TheI0uFLiKtRGSXiCSKSKbHuxSRu0Tkkoh0yLmIuSw+nouVK9OrXj3KBgQw+vbbbSdSyi81bNiQHj16EBMTw7Zt22zH8QpXLXQRyQdMB1oDNYAnRKRGJtONB1bkdMhcEx8PPXsybf9+vgWmXrrEDc8+6xqulMp148aNo2TJkvTq1YtLly7ZjpPnZWUNvR6QaIxJMsacB94B2mYwXQTwPnAoB/PlrqFDOXjmDMOAB4D2AGfOwNChdnMp5adKlixJTEwMGzduZM6cObbj5HlZKfTywAG368nOsD+ISHngEeC1K81IRHqKSIKIJBw+fDi7WT1v/36eBy4AUwFxG66UsiMsLIwmTZowdOhQjh49ajtOnpaVQs/omzQm3fXJwPPGmCv+T2SMmW2MCTXGhJYuXTqLEXPPuuBgFgKDgL+7j6hUyU4gpRQiwtSpUzlx4oQeN/0qslLoyUBFt+sVgIPppgkF3hGRvUAHYIaItMuJgLnl0qVLRAQFUVGEF9xHFC4MY8bYiqWUAmrVqkXfvn2ZNWsW3377re04eVZWCn0zcKuIVBGRAkAnYJn7BMaYKsaYEGNMCLAY+Jcx5oOcDutJs2fPZuu+fUzs148ilSuDCFSuDLNnQ+fOtuMp5feio6MpVaoUERERGJN+I4GCLBS6MeYi0A/X3is7gEXGmO9FpLeI9PZ0wNxw5MgRhg4dSpMmTegwZQrs3Qtpaa6fWuZK5QklSpTg5ZdfZv369cTrnmcZElvvdKGhoSYhIcHKstPr3bs3cXFxbNu2jZo1a9qOo5TKRFpaGnfffTfJycns2rWLYsWK2Y6U60RkizEmNKNxfv9N0S1btjB79mwiIiK0zJXK4wICApg2bRq//PILo0aNsh0nz/HrQk9LSyMiIoLSpUvr14uV8hL169ene/fuTJ48mV27dtmOk6f4daEvXLiQDRs2MG7cOD3hs1Je5OWXX6ZQoUJERkbqB6Ru/LbQT506xeDBg6lfvz7dunWzHUcplQ1lypQhOjqaFStWsGzZsqvfwE/4baGPHz+e3377jSlTphAQ4LcPg1Jeq2/fvtSoUYNBgwZx/vx523HyBL9ssv379zNx4kTCwsKoX7++7ThKqWuQP39+Xn31VRITE5kxY4btOHmCXxb6iy++CLi2wymlvFerVq1o3rw5I0eO5NixY7bjWOd3hb5p0ybi4+P597//TSU9RotSXk1EmDhxIidOnNDdGPGzQjfGMHDgQIKDgxkyJNPzdCilvMhtt91GeHg4sbGx7Nmzx3Ycq/yq0JcsWcK6desYNWoUxYsXtx1HKZVDRo0aRcGCBXn++edtR7HKbwo9NTWVwYMHU6tWLcLDw23HUUrloLJlyzJkyBCWLl3KmjVrbMexxm8KPTY2lqSkJCZOnEhgYKDtOEqpHDZgwAAqVKjAwIEDSUtLsx3HCr8o9CNHjjBq1Chat25NixYtbMdRSnlA4cKFGTt2LFu2bPHbozH6RaFHR0dz+vRpXn31VdtRlFIe1LlzZ+rWrcuLL77ImTNnbMfJdT5f6Lt372bmzJn06NGDGjVq2I6jlPKggIAAJk2aRHJyMpMmTbIdJ9f5fKFHRUURFBSkR1NUyk/cd999tGvXjgkTJpAnT0bvQT5d6AkJCbz33nsMGDCAMmXK2I6jlMolY8eOJSUlhbFjx9qOkqt8utCHDBlCqVKlGDRokO0oSqlcVL16dZ566ilmzJjBvn37bMfJNT5b6J999hkrV64kKipKv0SklB8aMWIEIsLw4cNtR8k1PlnoaWlpDBkyhJCQEHr39onzWCulsqlixYpERESwYMECtm/fbjtOrvDJQn/vvff45ptvGDlyJAULFrQdRyllyQsvvEDx4sX/OMKqr/O5Qr9w4QJRUVHcdttthIWF2Y6jlLKoZMmSDB48mOXLl7Nu3TrbcTzO5wo9Li6OxMREXn75ZfLly2c7jlLKssjIyD+O9eLr5x/1qUJPSUlh5MiR3HvvvTzwwAO24yil8oAiRYowfPhw1q9fz3/+8x/bcTzKpwp98uTJ/Prrr4wfPx4RsR1HKZVHPP3009x666288MILXLp0yXYcj/GZQj969CgTJkygbdu2NGjQwHYcpVQekj9/fkaPHs327dt56623bMfxGJ8p9FdeeYVTp04xZswY21GUUnlQhw4dqFu3LsOGDeP8+fO243iETxT6b7/9xrRp03jiiSeoWbOm7ThKqTwoICCA0aNHs3fvXubNm2c7jkf4RKGPHz+ec+fO+dU3wpRS2deyZUsaNGjA6NGjOXfunO04Oc7rC/3gwYPMnDmTrl27UrVqVdtxlFJ5mIgwatQokpOTiYuLsx0nx3l9oY8dO5aLFy8ybNgw21GUUl6gadOm3HfffYwdO5azZ8/ajpOjvLrQ9+/fz5w5cwgPD6dKlSq24yilvMDltfRffvmFmTNn2o6To7y60EePHg3A0KFDLSdRSnmT++67j2bNmjFu3DhSUlJsx8kxXlvoSUlJzJs3jx49elCpUiXbcZRSXmbkyJEcPnyY2NhY21FyjNcW+qhRowgMDPSbo6gppXJWgwYNaN26NRMmTODkyZO24+QIryz03bt3s2DBAvr06UO5cuVsx1FKeano6GiOHTvG1KlTbUfJEV5Z6NHR0QQFBTFkyBDbUZRSXuyuu+7i4YcfZuLEiRw/ftx2nOvmdYX+/fff8/bbbxMREUFwcLDtOEopLxcdHc3x48eJiYmxHeW6eV2hHzx4kOrVq/Pcc8/ZjqKU8gG1a9emffv2xMTEcOzYMdtxrkuWCl1EWonILhFJFJG/bOcQkbYi8p2IbBWRBBG5J+ejujRv3pzt27dz4403emoRSik/M2zYME6dOuX129KvWugikg+YDrQGagBPiEiNdJOtBO4wxtQGwgGPfqdWj3WulMpJt99+O23r1mXKqFGcFIGQEIiPtx0r27Kyhl4PSDTGJBljzgPvAG3dJzDGnDb/O7dTEcC3z/OklPIt8fG89P33HE9LIxZg3z7o2dPrSj0rhV4eOOB2PdkZ9ici8oiI7AT+g2st/S9EpKezSSbh8OHD15JXKaVy3tCh1D13jtbAJOA0wJkz4GXfQs9KoWe0feMva+DGmKXGmGpAO2BURjMyxsw2xoQaY0JLly6draBKKeUx+/cD8BJwFJiVbri3yEqhJwMV3a5XAA5mNrExZi3wdxEpdZ3ZlFIqdziHD2kA3A+8Apx1G+4tslLom4FbRaSKiBQAOgHL3CcQkVvE+aRSROoABXC90SmlVN43ZgwULgy41tJ/A+Ly53cN9yJXLXRjzEWgH7AC2AEsMsZ8LyK9RaS3M1l7YLuIbMW1R8zjbh+SKqVU3ta5M8yeDZUr00iEewsWZHzRoqR26GA7WbaIrd4NDQ01CQkJVpatlFJX8tlnn9GiRQtee+01evXqZTvOn4jIFmNMaEbjvO6bokop5WnNmjWjfv36jBs3jgsXLtiOk2Va6EoplY6I8NJLL7F3714WLlxoO06WaaErpVQGHnjgAerUqfPHeYu9gRa6UkplQESIiooiMTGR999/33acLNFCV0qpTLRt25Zq1aoxbtw4vGHHPS10pZTKREBAAIMHD2br1q18+umntuNclRa6UkpdQefOnSlfvjzjxo2zHeWqtNCVUuoKChQowMCBA1m9ejUbN260HeeKtNCVUuoqevTowd/+9jfGjx9vO8oVaaErpdRVFC1alH79+rF06VJ27NhhO06mtNCVUioLIiIiKFSoEK+88ortKJnSQldKqSwoXbo0zzzzDAsXLiQ5Odl2nAxpoSulVBYNGDCAtLQ0YmJibEfJkBa6UkplUUhICE888QSzZs3i2LFjtuP8hRa6Ukplw+DBg0lJSWH69Om2o/yFFrpSSmXDbbfdRps2bZgyZQopKSm24/yJFrpSSmXT888/z9GjR3njjTdsR/kTLXSllMqmhg0bUq9ePWJiYrh06ZLtOH/QQldKqWwSEQYOHEhiYiLLly+3HecPWuhKKXUNHn30UUJCQpg4caLtKH/QQldKqWsQGBjIs88+y7p169i0aZPtOIAWulJKXbPw8HBuuOGGPLOWroWulFLXqFixYvTq1YvFixezd+9e23G00JVS6npEREQQEBDAlClTbEfRQldKqetRoUIFOnXqRFxcHMePH7eaRQtdKaWu08CBAzl9+jSzZ8+2mkMLXSmlrlPt2rVp2rQpU6dO5fz589ZyaKErpVQOGDhwID///DOLFi2ylkELXSmlckCrVq2oXr06EydOxBhjJYMWulJK5YCAgAAGDBjA1q1b+eKLL+xksLJUpZTyQV26dKF06dLWdmHUQldKqRwSFBREr169WL58OUlJSbm+fC10pZTKQX369CFfvnzExsbm+rK10JVSKgeVK1eOxx57jNdff51Tp07l6rK10JVSKodFRkZy8uRJFixYkKvL1UJXSqkcVr9+ferVq8fUqVNJS0vLteVqoSullAdERkaye/duVqxYkWvL1EJXSikP6NChAzfddBNTp07NtWVqoSullAcUKFCAPn368Mknn7Bz585cWWaWCl1EWonILhFJFJEhGYzvLCLfOZevROSOnI+qlFLepVevXhQoUCDXdmG8aqGLSD5gOtAaqAE8ISI10k32E9DIGHM7MAqwewxJpZTKA4KDgwkLC2P+/Pm5cqz0rKyh1wMSjTFJxpjzwDtAW/cJjDFfGWN+d65+DVTI2ZhKKeWd+vfvT0pKCnPnzvX4srJS6OWBA27Xk51hmXka+G9GI0Skp4gkiEjC4cOHs55SKaW81J133sm9995LbGwsly5d8uiyslLoksGwDI8NKSJNcBX68xmNN8bMNsaEGmNCS5cunfWUSinlxSIjI/npp5/46KOPPLqcrBR6MlDR7XoF4GD6iUTkdiAOaGuMOZoz8ZRSyvu1bduWihUrMm3aNI8uJyuFvhm4VUSqiEgBoBOwzH0CEakELAGeNMbszvmYSinlvQIDA+nTpw8rV65kx44dHlvOVQvdGHMR6AesAHYAi4wx34tIbxHp7Uw2DLgRmCEiW0UkwWOJlVLKCz3zzDMUKFCAGTNmeGwZYutUSaGhoSYhQXtfKeU/unXrxpIlS/j5558pXrz4Nc1DRLYYY0IzGqffFFVKqVzSr18/Tp8+zZtvvumR+WuhK6VULrnrrrsICwvjxhtv9Mj8Az0yV6WUUhmKj4/32Lx1DV0ppXyEFrpSSvkILXSllPIRWuhKKeUjtNCVUspHaKErpZSP0EJXSikfoYWulFI+wtqxXETkMLDvGm9eCjiSg3G8gd5n/6D32T9cz32ubIzJ8IQS1gr9eohIQmYHp/FVep/9g95n/+Cp+6ybXJRSykdooSullI/w1kKfbTuABXqf/YPeZ//gkfvsldvQlVJK/ZW3rqErpZRKRwtdKaV8hFcVuojMFZFDIrLddpbcIiIVReQLEdkhIt+LSKTtTJ4mIkEisklEtjn3Odp2ptwgIvlE5FsR+ch2ltwiIntF5P/85eTyIlJCRBaLyE7nb7pBjs7fm7ahi8h9wGlggTGmlu08uUFEbgJuMsZ8IyLFgC1AO2PMD5ajeYyICFDEGHNaRPID64BIY8zXlqN5lIgMAEKB4saYNrbz5AYR2QuEGmP84otFIvIG8KUxJk5ECgCFjTHHc2r+XrWGboxZCxyznSM3GWN+McZ84/x+CtgBlLebyrOMy2nnan7n4j1rHtdARCoADwJxtrMozxCR4sB9wOsAxpjzOVnm4GWF7u9EJAS4E9hoOYrHOZsftgKHgM+MMb5+nycDg4E0yzlymwE+FZEtItLTdhgPuxk4DMxzNq3FiUiRnFyAFrqXEJGiwPvAs8aYk7bzeJox5pIxpjZQAagnIj67iU1E2gCHjDFbbGexoKExpg7QGujrbFb1VYFAHWCmMeZOIAUYkpML0EL3As525PeBeGPMEtt5cpPzL+lqoJXdJB7VEHjY2Z78DtBURBbajZQ7jDEHnZ+HgKVAPbuJPCoZSHb7b3MxroLPMVroeZzzAeHrwA5jzCTbeXKDiJQWkRLO74WAZsBOq6E8yBjzgjGmgjEmBOgErDLGdLEcy+NEpIjzQT/OpocWgM/uwWaM+RU4ICL/cAbdD+Tozg2BOTkzTxORt4HGQCkRSQaGG2Net5vK4xoCTwL/52xTBnjRGPOxvUgedxPwhojkw7XSscgY4ze78vmRMsBS1zoLgcBbxphP7EbyuAgg3tnDJQnonpMz96rdFpVSSmVON7kopZSP0EJXSikfoYWulFI+QgtdKaV8hBa6Ukr5CC10pZTyEVroSinlI/4fTL3nMITAbukAAAAASUVORK5CYII=",
      "text/plain": [
       "<Figure size 432x288 with 1 Axes>"
      ]
     },
     "metadata": {
      "needs_background": "light"
     },
     "output_type": "display_data"
    }
   ],
   "source": [
    "plt.plot(x,y,color='k',label='OK')\n",
    "plt.scatter(X,Y,color='r',marker='o')\n",
    "plt.title(\"Interpolación por Método Lagranje\")\n"
   ]
  },
  {
   "cell_type": "markdown",
   "metadata": {},
   "source": []
  },
  {
   "cell_type": "code",
   "execution_count": 76,
   "metadata": {},
   "outputs": [
    {
     "data": {
      "text/latex": [
       "$\\displaystyle - 0.0554912422401579 x^{2} + 0.363970234266202 x + 2.22044604925031 \\cdot 10^{-16}$"
      ],
      "text/plain": [
       "-0.0554912422401579*x**2 + 0.363970234266202*x + 2.22044604925031e-16"
      ]
     },
     "execution_count": 76,
     "metadata": {},
     "output_type": "execute_result"
    }
   ],
   "source": [
    "\"Generamos el polinomio cuadratico asociado a la parabola usando el codigo de la clase\"\n",
    "\n",
    "_x= sym.Symbol('x',real=True)\n",
    "f = Interpolar(_x,X,Y)\n",
    "f = sym.expand(f)\n",
    "f"
   ]
  },
  {
   "cell_type": "code",
<<<<<<< HEAD
   "execution_count": null,
=======
   "execution_count": 77,
>>>>>>> 9535657dbd4d4e14eb5978977ae39adb4af13488
   "metadata": {},
   "outputs": [],
   "source": [
    "#Uilizando la fórmula y=xtan(theta)-(gx^2)/2v^2cos^2(theta)\n",
    "#Usando theta=Tan^-1(b)  y v=sqr(gx^2/a2cos^2(theta)) dando valores de 20° el theta dando igual al de la guía y\n",
    "#velocidad no dió exactamente 10m/s si no 9,69 m/s"
   ]
  },
  {
   "cell_type": "code",
   "execution_count": null,
   "metadata": {},
   "outputs": [],
   "source": []
  }
 ],
 "metadata": {
  "kernelspec": {
   "display_name": "Python 3",
   "language": "python",
   "name": "python3"
  },
  "language_info": {
   "codemirror_mode": {
    "name": "ipython",
    "version": 3
   },
   "file_extension": ".py",
   "mimetype": "text/x-python",
   "name": "python",
   "nbconvert_exporter": "python",
   "pygments_lexer": "ipython3",
   "version": "3.8.5"
  }
 },
 "nbformat": 4,
 "nbformat_minor": 4
}
