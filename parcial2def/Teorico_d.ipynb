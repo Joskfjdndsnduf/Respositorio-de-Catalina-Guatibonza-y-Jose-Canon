{
 "cells": [
  {
   "cell_type": "code",
   "execution_count": 6,
   "metadata": {},
   "outputs": [],
   "source": [
    "# -*- coding: utf-8 -*-\n",
    "\"\"\"\n",
    "Created on Tue Sep 19 17:54:49 2023\n",
    "\n",
    "@author: HP\n",
    "\"\"\"\n",
    "\n",
    "# La formula de rodrigez es la usada en el punto anterior la cual genera el polinomi de 2ndo grado a evaluar\n",
    "import sympy as sym\n",
    "import numpy as np\n",
    "import matplotlib.pyplot as plt\n",
    "\n",
    "x = sym.Symbol('x',real=True)\n",
    "y = sym.Symbol('y',real=True)\n",
    "\n",
    "def GetLaggereRecursive(n,x):\n",
    "\n",
    "    if n==0:\n",
    "        poly = 1\n",
    "    elif n==1:\n",
    "        poly = -x+1\n",
    "    else:\n",
    "        poly = ((2*n-1-x)*GetLaggereRecursive(n-1,x)-(n-1)*GetLaggereRecursive(n-2,x))/n\n",
    "    return sym.simplify(poly)\n",
    "\n",
    "\n",
    "def GetDLaggere(n,x):\n",
    "    Pn = GetLaggereRecursive(n,x)\n",
    "    return sym.diff(Pn,x,1)\n",
    "\n",
    "def GetNewton(f,df,xn,itmax=10000,precision=1e-14):\n",
    "    error = 1.\n",
    "    it = 0\n",
    "    while error >= precision and it < itmax:\n",
    "        try:\n",
    "            xn1 = xn - f(xn)/df(xn)\n",
    "            error = np.abs(f(xn)/df(xn))\n",
    "        except ZeroDivisionError:\n",
    "            print('Zero Division')\n",
    "        xn = xn1\n",
    "        it += 1\n",
    "    if it == itmax:\n",
    "        return False\n",
    "    else:\n",
    "        return xn\n",
    "    \n",
    "def GetRoots(f,df,x,tolerancia = 10):\n",
    "    Roots = np.array([])\n",
    "    for i in x:\n",
    "        root = GetNewton(f,df,i)\n",
    "        if  type(root)!=bool:\n",
    "            croot = np.round( root, tolerancia )\n",
    "            if croot not in Roots:\n",
    "                Roots = np.append(Roots, croot)\n",
    "    Roots.sort()\n",
    "    return Roots\n",
    "\n",
    "def GetAllRootsGLag(n):\n",
    "    xn = np.linspace(0,n+((n-1)*np.sqrt(n)),100)\n",
    "    Laggere = []\n",
    "    DLaggere = []\n",
    "    \n",
    "    for i in range(n+1):\n",
    "        Laggere.append(GetLaggereRecursive(i,x))\n",
    "        DLaggere.append(GetDLaggere(i,x))\n",
    "    \n",
    "    poly = sym.lambdify([x],Laggere[n],'numpy')\n",
    "    Dpoly = sym.lambdify([x],DLaggere[n],'numpy')\n",
    "    Roots = GetRoots(poly,Dpoly,xn)\n",
    "\n",
    "    if len(Roots) != n:\n",
    "        ValueError('El número de raíces debe ser igual al n del polinomio.')\n",
    "    \n",
    "    return Roots\n",
    "\n",
    "def GetWeightsGLag(n):\n",
    "\n",
    "    Roots = GetAllRootsGLag(n)\n",
    "    print(Roots)\n",
    "    weights=[]\n",
    "    for i in range(n):\n",
    "        Lagroot = GetLaggereRecursive(n+1,Roots[i])\n",
    "        Weight = Roots[i]/(((n+1)**2)*(Lagroot)**2)\n",
    "        weights.append(Weight)\n",
    "    \n",
    "    return weights"
   ]
  },
  {
   "cell_type": "code",
   "execution_count": 10,
   "metadata": {},
   "outputs": [
    {
     "data": {
      "text/plain": [
       "array([0.41577456, 2.29428036, 6.28994508])"
      ]
     },
     "execution_count": 10,
     "metadata": {},
     "output_type": "execute_result"
    }
   ],
   "source": [
    "GetAllRootsGLag(3)"
   ]
  },
  {
   "cell_type": "code",
   "execution_count": 11,
   "metadata": {},
   "outputs": [
    {
     "name": "stdout",
     "output_type": "stream",
     "text": [
      "[0.41577456 2.29428036 6.28994508]\n"
     ]
    },
    {
     "data": {
      "text/plain": [
       "[0.711093009731387, 0.278517733551431, 0.0103892565020195]"
      ]
     },
     "execution_count": 11,
     "metadata": {},
     "output_type": "execute_result"
    }
   ],
   "source": [
    "GetWeightsGLag(3)"
   ]
  },
  {
   "cell_type": "code",
   "execution_count": 12,
   "metadata": {},
   "outputs": [
    {
     "name": "stdout",
     "output_type": "stream",
     "text": [
      "[0.41577456 2.29428036 6.28994508]\n"
     ]
    },
    {
     "data": {
      "text/latex": [
       "$\\displaystyle 5.99999999993059$"
      ],
      "text/plain": [
       "5.99999999993059"
      ]
     },
     "execution_count": 12,
     "metadata": {},
     "output_type": "execute_result"
    }
   ],
   "source": [
    "Raices=GetAllRootsGLag(3)\n",
    "Pesos = GetWeightsGLag(3)\n",
    "\n",
    "Sumatoria = (Pesos[0]*Raices[0]**3)+ (Pesos[1]*Raices[1]**3)+(Pesos[2]*Raices[2]**3)\n",
    "Sumatoria"
   ]
  },
  {
   "cell_type": "code",
   "execution_count": null,
   "metadata": {},
   "outputs": [],
   "source": []
  }
 ],
 "metadata": {
  "kernelspec": {
   "display_name": "Python 3",
   "language": "python",
   "name": "python3"
  },
  "language_info": {
   "codemirror_mode": {
    "name": "ipython",
    "version": 3
   },
   "file_extension": ".py",
   "mimetype": "text/x-python",
   "name": "python",
   "nbconvert_exporter": "python",
   "pygments_lexer": "ipython3",
   "version": "3.8.5"
  }
 },
 "nbformat": 4,
 "nbformat_minor": 4
}
